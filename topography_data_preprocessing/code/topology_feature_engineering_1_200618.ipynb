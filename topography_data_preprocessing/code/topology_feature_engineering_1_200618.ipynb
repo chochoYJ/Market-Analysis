{
 "cells": [
  {
   "cell_type": "markdown",
   "metadata": {},
   "source": [
    "### Pandas group 연산자\n",
    "* 분류 기준\n",
    "    * 내부의 연산 매서드\n",
    "    * 원하는 연산 매서드가 없을 때 함수를 별도로 제작하여 연산결과를 출력하게 돕는 매서드 \n",
    "    * 조건에 부합하는 데이터프레임을 출력하도록 돕는 매서드 \n",
    "* groupbyresult.groups\n",
    "* df2.data1.groupby(df2.key1).sum()\n",
    "* df2.groupby(df2.key1)[\"data1\"].sum()\n",
    "* df2.data1.groupby([df2[\"key1\"], df2[\"key2\"]]).sum().unstack(\"key2\") # 피벗테이블 형태로\n",
    "* agg : 함수 제작 후 agg 메서드에 전달하면 \"그룹 연산\"을 진행한다.\n",
    "    def peak_to_peak_ratio(x):  \n",
    "        return x.max() / x.min()  \n",
    "    iris.groupby(iris.species).agg(peak_to_peak_ratio)  \n",
    "* apply : 원하는 대표 연산이 없을 때, \"데이터 프레임을 출력\"하기 위해 사용함\n",
    "    def top3_petal_length(df):    \n",
    "        return df.sort_values(by=\"petal_length\", ascending=False)[:3]    \n",
    "    iris.groupby(iris.species).apply(top3_petal_length)  \n",
    "* row 합계= df.sum(axis = 1)"
   ]
  },
  {
   "cell_type": "code",
   "execution_count": 1,
   "metadata": {},
   "outputs": [],
   "source": [
    "import pandas as pd"
   ]
  },
  {
   "cell_type": "code",
   "execution_count": 2,
   "metadata": {},
   "outputs": [
    {
     "name": "stderr",
     "output_type": "stream",
     "text": [
      "/Users/yeonjin/opt/anaconda3/lib/python3.7/site-packages/IPython/core/interactiveshell.py:3058: DtypeWarning: Columns (0) have mixed types. Specify dtype option on import or set low_memory=False.\n",
      "  interactivity=interactivity, compiler=compiler, result=result)\n"
     ]
    }
   ],
   "source": [
    "df = pd.read_csv('/Users/yeonjin/Documents/GitHub/Market-Entry-Analysis/topography_data_preprocessing/tf_seoul/tf_seoul_200617_after_jipgyegu.csv')"
   ]
  },
  {
   "cell_type": "code",
   "execution_count": 23,
   "metadata": {},
   "outputs": [],
   "source": [
    "height = pd.DataFrame(df.groupby(['법정동코드_구', '법정동구', '지형높이'])['기준월'].count()).reset_index()"
   ]
  },
  {
   "cell_type": "code",
   "execution_count": 30,
   "metadata": {},
   "outputs": [],
   "source": [
    "height_sum = pd.DataFrame(height.groupby(['법정동코드_구', '법정동구'])['기준월'].sum()).reset_index()"
   ]
  },
  {
   "cell_type": "code",
   "execution_count": 31,
   "metadata": {},
   "outputs": [],
   "source": [
    "height_sum.columns = ['법정동코드_구', '법정동구', '지형높이sum']"
   ]
  },
  {
   "cell_type": "code",
   "execution_count": 36,
   "metadata": {
    "scrolled": true
   },
   "outputs": [
    {
     "data": {
      "text/html": [
       "<div>\n",
       "<style scoped>\n",
       "    .dataframe tbody tr th:only-of-type {\n",
       "        vertical-align: middle;\n",
       "    }\n",
       "\n",
       "    .dataframe tbody tr th {\n",
       "        vertical-align: top;\n",
       "    }\n",
       "\n",
       "    .dataframe thead th {\n",
       "        text-align: right;\n",
       "    }\n",
       "</style>\n",
       "<table border=\"1\" class=\"dataframe\">\n",
       "  <thead>\n",
       "    <tr style=\"text-align: right;\">\n",
       "      <th></th>\n",
       "      <th>법정동코드_구</th>\n",
       "      <th>법정동구</th>\n",
       "      <th>지형높이sum</th>\n",
       "    </tr>\n",
       "  </thead>\n",
       "  <tbody>\n",
       "    <tr>\n",
       "      <td>0</td>\n",
       "      <td>11110</td>\n",
       "      <td>서울특별시 종로구</td>\n",
       "      <td>50760</td>\n",
       "    </tr>\n",
       "    <tr>\n",
       "      <td>1</td>\n",
       "      <td>11140</td>\n",
       "      <td>서울특별시 중구</td>\n",
       "      <td>38174</td>\n",
       "    </tr>\n",
       "    <tr>\n",
       "      <td>2</td>\n",
       "      <td>11170</td>\n",
       "      <td>서울특별시 용산구</td>\n",
       "      <td>40227</td>\n",
       "    </tr>\n",
       "    <tr>\n",
       "      <td>3</td>\n",
       "      <td>11200</td>\n",
       "      <td>서울특별시 성동구</td>\n",
       "      <td>35169</td>\n",
       "    </tr>\n",
       "    <tr>\n",
       "      <td>4</td>\n",
       "      <td>11215</td>\n",
       "      <td>서울특별시 광진구</td>\n",
       "      <td>34220</td>\n",
       "    </tr>\n",
       "  </tbody>\n",
       "</table>\n",
       "</div>"
      ],
      "text/plain": [
       "   법정동코드_구       법정동구  지형높이sum\n",
       "0    11110  서울특별시 종로구    50760\n",
       "1    11140   서울특별시 중구    38174\n",
       "2    11170  서울특별시 용산구    40227\n",
       "3    11200  서울특별시 성동구    35169\n",
       "4    11215  서울특별시 광진구    34220"
      ]
     },
     "execution_count": 36,
     "metadata": {},
     "output_type": "execute_result"
    }
   ],
   "source": [
    "height_sum.head()"
   ]
  },
  {
   "cell_type": "code",
   "execution_count": 35,
   "metadata": {
    "scrolled": true
   },
   "outputs": [
    {
     "data": {
      "text/html": [
       "<div>\n",
       "<style scoped>\n",
       "    .dataframe tbody tr th:only-of-type {\n",
       "        vertical-align: middle;\n",
       "    }\n",
       "\n",
       "    .dataframe tbody tr th {\n",
       "        vertical-align: top;\n",
       "    }\n",
       "\n",
       "    .dataframe thead th {\n",
       "        text-align: right;\n",
       "    }\n",
       "</style>\n",
       "<table border=\"1\" class=\"dataframe\">\n",
       "  <thead>\n",
       "    <tr style=\"text-align: right;\">\n",
       "      <th></th>\n",
       "      <th>법정동코드_구</th>\n",
       "      <th>법정동구</th>\n",
       "      <th>지형높이</th>\n",
       "      <th>기준월</th>\n",
       "      <th>지형높이sum</th>\n",
       "    </tr>\n",
       "  </thead>\n",
       "  <tbody>\n",
       "    <tr>\n",
       "      <td>0</td>\n",
       "      <td>11110</td>\n",
       "      <td>서울특별시 종로구</td>\n",
       "      <td>고지</td>\n",
       "      <td>3341</td>\n",
       "      <td>50760</td>\n",
       "    </tr>\n",
       "    <tr>\n",
       "      <td>1</td>\n",
       "      <td>11110</td>\n",
       "      <td>서울특별시 종로구</td>\n",
       "      <td>급경사</td>\n",
       "      <td>5689</td>\n",
       "      <td>50760</td>\n",
       "    </tr>\n",
       "    <tr>\n",
       "      <td>2</td>\n",
       "      <td>11110</td>\n",
       "      <td>서울특별시 종로구</td>\n",
       "      <td>완경사</td>\n",
       "      <td>8204</td>\n",
       "      <td>50760</td>\n",
       "    </tr>\n",
       "    <tr>\n",
       "      <td>3</td>\n",
       "      <td>11110</td>\n",
       "      <td>서울특별시 종로구</td>\n",
       "      <td>저지</td>\n",
       "      <td>22</td>\n",
       "      <td>50760</td>\n",
       "    </tr>\n",
       "    <tr>\n",
       "      <td>4</td>\n",
       "      <td>11110</td>\n",
       "      <td>서울특별시 종로구</td>\n",
       "      <td>지정되지않음</td>\n",
       "      <td>7816</td>\n",
       "      <td>50760</td>\n",
       "    </tr>\n",
       "  </tbody>\n",
       "</table>\n",
       "</div>"
      ],
      "text/plain": [
       "   법정동코드_구       법정동구    지형높이   기준월  지형높이sum\n",
       "0    11110  서울특별시 종로구      고지  3341    50760\n",
       "1    11110  서울특별시 종로구     급경사  5689    50760\n",
       "2    11110  서울특별시 종로구     완경사  8204    50760\n",
       "3    11110  서울특별시 종로구      저지    22    50760\n",
       "4    11110  서울특별시 종로구  지정되지않음  7816    50760"
      ]
     },
     "execution_count": 35,
     "metadata": {},
     "output_type": "execute_result"
    }
   ],
   "source": [
    "height_agg = pd.merge(height, height_sum,  how = 'left')\n",
    "height_agg.head()"
   ]
  },
  {
   "cell_type": "code",
   "execution_count": 38,
   "metadata": {},
   "outputs": [
    {
     "data": {
      "text/plain": [
       "Index(['법정동코드_구', '법정동구', '지형높이', '기준월', '지형높이sum'], dtype='object')"
      ]
     },
     "execution_count": 38,
     "metadata": {},
     "output_type": "execute_result"
    }
   ],
   "source": [
    "height_agg.columns"
   ]
  },
  {
   "cell_type": "code",
   "execution_count": 39,
   "metadata": {},
   "outputs": [],
   "source": [
    "height_agg.columns = ['법정동코드_구', '법정동구', '지형높이', '지형높이count', '지형높이sum']"
   ]
  },
  {
   "cell_type": "code",
   "execution_count": 41,
   "metadata": {},
   "outputs": [],
   "source": [
    "height_agg['percent'] = round(height_agg['지형높이count'] / height_agg['지형높이sum'], 3)"
   ]
  },
  {
   "cell_type": "code",
   "execution_count": 105,
   "metadata": {
    "scrolled": true
   },
   "outputs": [
    {
     "data": {
      "text/html": [
       "<div>\n",
       "<style scoped>\n",
       "    .dataframe tbody tr th:only-of-type {\n",
       "        vertical-align: middle;\n",
       "    }\n",
       "\n",
       "    .dataframe tbody tr th {\n",
       "        vertical-align: top;\n",
       "    }\n",
       "\n",
       "    .dataframe thead th {\n",
       "        text-align: right;\n",
       "    }\n",
       "</style>\n",
       "<table border=\"1\" class=\"dataframe\">\n",
       "  <thead>\n",
       "    <tr style=\"text-align: right;\">\n",
       "      <th></th>\n",
       "      <th>법정동코드_구</th>\n",
       "      <th>법정동구</th>\n",
       "      <th>지형높이</th>\n",
       "      <th>지형높이count</th>\n",
       "      <th>지형높이sum</th>\n",
       "      <th>percent</th>\n",
       "    </tr>\n",
       "  </thead>\n",
       "  <tbody>\n",
       "    <tr>\n",
       "      <td>0</td>\n",
       "      <td>11110</td>\n",
       "      <td>서울특별시 종로구</td>\n",
       "      <td>고지</td>\n",
       "      <td>3341</td>\n",
       "      <td>50760</td>\n",
       "      <td>0.066</td>\n",
       "    </tr>\n",
       "    <tr>\n",
       "      <td>1</td>\n",
       "      <td>11110</td>\n",
       "      <td>서울특별시 종로구</td>\n",
       "      <td>급경사</td>\n",
       "      <td>5689</td>\n",
       "      <td>50760</td>\n",
       "      <td>0.112</td>\n",
       "    </tr>\n",
       "    <tr>\n",
       "      <td>2</td>\n",
       "      <td>11110</td>\n",
       "      <td>서울특별시 종로구</td>\n",
       "      <td>완경사</td>\n",
       "      <td>8204</td>\n",
       "      <td>50760</td>\n",
       "      <td>0.162</td>\n",
       "    </tr>\n",
       "    <tr>\n",
       "      <td>3</td>\n",
       "      <td>11110</td>\n",
       "      <td>서울특별시 종로구</td>\n",
       "      <td>저지</td>\n",
       "      <td>22</td>\n",
       "      <td>50760</td>\n",
       "      <td>0.000</td>\n",
       "    </tr>\n",
       "    <tr>\n",
       "      <td>4</td>\n",
       "      <td>11110</td>\n",
       "      <td>서울특별시 종로구</td>\n",
       "      <td>지정되지않음</td>\n",
       "      <td>7816</td>\n",
       "      <td>50760</td>\n",
       "      <td>0.154</td>\n",
       "    </tr>\n",
       "  </tbody>\n",
       "</table>\n",
       "</div>"
      ],
      "text/plain": [
       "   법정동코드_구       법정동구    지형높이  지형높이count  지형높이sum  percent\n",
       "0    11110  서울특별시 종로구      고지       3341    50760    0.066\n",
       "1    11110  서울특별시 종로구     급경사       5689    50760    0.112\n",
       "2    11110  서울특별시 종로구     완경사       8204    50760    0.162\n",
       "3    11110  서울특별시 종로구      저지         22    50760    0.000\n",
       "4    11110  서울특별시 종로구  지정되지않음       7816    50760    0.154"
      ]
     },
     "execution_count": 105,
     "metadata": {},
     "output_type": "execute_result"
    }
   ],
   "source": [
    "height_agg.head()"
   ]
  },
  {
   "cell_type": "code",
   "execution_count": 106,
   "metadata": {
    "scrolled": false
   },
   "outputs": [
    {
     "data": {
      "text/html": [
       "<div>\n",
       "<style scoped>\n",
       "    .dataframe tbody tr th:only-of-type {\n",
       "        vertical-align: middle;\n",
       "    }\n",
       "\n",
       "    .dataframe tbody tr th {\n",
       "        vertical-align: top;\n",
       "    }\n",
       "\n",
       "    .dataframe thead th {\n",
       "        text-align: right;\n",
       "    }\n",
       "</style>\n",
       "<table border=\"1\" class=\"dataframe\">\n",
       "  <thead>\n",
       "    <tr style=\"text-align: right;\">\n",
       "      <th></th>\n",
       "      <th></th>\n",
       "      <th>지형높이</th>\n",
       "      <th>percent</th>\n",
       "    </tr>\n",
       "    <tr>\n",
       "      <th>법정동코드_구</th>\n",
       "      <th>법정동구</th>\n",
       "      <th></th>\n",
       "      <th></th>\n",
       "    </tr>\n",
       "  </thead>\n",
       "  <tbody>\n",
       "    <tr>\n",
       "      <td>11590</td>\n",
       "      <td>서울특별시 동작구</td>\n",
       "      <td>평지</td>\n",
       "      <td>0.388</td>\n",
       "    </tr>\n",
       "    <tr>\n",
       "      <td>11410</td>\n",
       "      <td>서울특별시 서대문구</td>\n",
       "      <td>평지</td>\n",
       "      <td>0.459</td>\n",
       "    </tr>\n",
       "    <tr>\n",
       "      <td>11620</td>\n",
       "      <td>서울특별시 관악구</td>\n",
       "      <td>평지</td>\n",
       "      <td>0.475</td>\n",
       "    </tr>\n",
       "    <tr>\n",
       "      <td>11110</td>\n",
       "      <td>서울특별시 종로구</td>\n",
       "      <td>평지</td>\n",
       "      <td>0.506</td>\n",
       "    </tr>\n",
       "    <tr>\n",
       "      <td>11380</td>\n",
       "      <td>서울특별시 은평구</td>\n",
       "      <td>평지</td>\n",
       "      <td>0.526</td>\n",
       "    </tr>\n",
       "  </tbody>\n",
       "</table>\n",
       "</div>"
      ],
      "text/plain": [
       "                   지형높이  percent\n",
       "법정동코드_구 법정동구                    \n",
       "11590   서울특별시 동작구    평지    0.388\n",
       "11410   서울특별시 서대문구   평지    0.459\n",
       "11620   서울특별시 관악구    평지    0.475\n",
       "11110   서울특별시 종로구    평지    0.506\n",
       "11380   서울특별시 은평구    평지    0.526"
      ]
     },
     "execution_count": 106,
     "metadata": {},
     "output_type": "execute_result"
    }
   ],
   "source": [
    "height_agg.groupby(['법정동코드_구', '법정동구'])['지형높이','percent'].max().sort_values('percent').head()"
   ]
  },
  {
   "cell_type": "code",
   "execution_count": 47,
   "metadata": {},
   "outputs": [
    {
     "data": {
      "text/plain": [
       "25"
      ]
     },
     "execution_count": 47,
     "metadata": {},
     "output_type": "execute_result"
    }
   ],
   "source": [
    "# len(height_agg.groupby(['법정동코드_구', '법정동구'])['지형높이','percent'].max())\n",
    "# 25개구"
   ]
  },
  {
   "cell_type": "code",
   "execution_count": 107,
   "metadata": {
    "scrolled": false
   },
   "outputs": [
    {
     "data": {
      "text/html": [
       "<div>\n",
       "<style scoped>\n",
       "    .dataframe tbody tr th:only-of-type {\n",
       "        vertical-align: middle;\n",
       "    }\n",
       "\n",
       "    .dataframe tbody tr th {\n",
       "        vertical-align: top;\n",
       "    }\n",
       "\n",
       "    .dataframe thead th {\n",
       "        text-align: right;\n",
       "    }\n",
       "</style>\n",
       "<table border=\"1\" class=\"dataframe\">\n",
       "  <thead>\n",
       "    <tr style=\"text-align: right;\">\n",
       "      <th></th>\n",
       "      <th>지형높이</th>\n",
       "      <th>고지</th>\n",
       "      <th>급경사</th>\n",
       "      <th>완경사</th>\n",
       "      <th>저지</th>\n",
       "      <th>지정되지않음</th>\n",
       "      <th>평지</th>\n",
       "    </tr>\n",
       "    <tr>\n",
       "      <th>법정동코드_구</th>\n",
       "      <th>법정동구</th>\n",
       "      <th></th>\n",
       "      <th></th>\n",
       "      <th></th>\n",
       "      <th></th>\n",
       "      <th></th>\n",
       "      <th></th>\n",
       "    </tr>\n",
       "  </thead>\n",
       "  <tbody>\n",
       "    <tr>\n",
       "      <td>11110</td>\n",
       "      <td>서울특별시 종로구</td>\n",
       "      <td>0.066</td>\n",
       "      <td>0.112</td>\n",
       "      <td>0.162</td>\n",
       "      <td>0.000</td>\n",
       "      <td>0.154</td>\n",
       "      <td>0.506</td>\n",
       "    </tr>\n",
       "    <tr>\n",
       "      <td>11140</td>\n",
       "      <td>서울특별시 중구</td>\n",
       "      <td>0.000</td>\n",
       "      <td>0.000</td>\n",
       "      <td>0.131</td>\n",
       "      <td>0.000</td>\n",
       "      <td>0.242</td>\n",
       "      <td>0.626</td>\n",
       "    </tr>\n",
       "    <tr>\n",
       "      <td>11170</td>\n",
       "      <td>서울특별시 용산구</td>\n",
       "      <td>0.000</td>\n",
       "      <td>0.000</td>\n",
       "      <td>0.540</td>\n",
       "      <td>0.003</td>\n",
       "      <td>0.003</td>\n",
       "      <td>0.454</td>\n",
       "    </tr>\n",
       "    <tr>\n",
       "      <td>11200</td>\n",
       "      <td>서울특별시 성동구</td>\n",
       "      <td>0.024</td>\n",
       "      <td>0.002</td>\n",
       "      <td>0.184</td>\n",
       "      <td>0.010</td>\n",
       "      <td>0.078</td>\n",
       "      <td>0.702</td>\n",
       "    </tr>\n",
       "    <tr>\n",
       "      <td>11215</td>\n",
       "      <td>서울특별시 광진구</td>\n",
       "      <td>0.000</td>\n",
       "      <td>0.004</td>\n",
       "      <td>0.062</td>\n",
       "      <td>0.001</td>\n",
       "      <td>0.191</td>\n",
       "      <td>0.742</td>\n",
       "    </tr>\n",
       "  </tbody>\n",
       "</table>\n",
       "</div>"
      ],
      "text/plain": [
       "지형높이                  고지    급경사    완경사     저지  지정되지않음     평지\n",
       "법정동코드_구 법정동구                                                \n",
       "11110   서울특별시 종로구  0.066  0.112  0.162  0.000   0.154  0.506\n",
       "11140   서울특별시 중구   0.000  0.000  0.131  0.000   0.242  0.626\n",
       "11170   서울특별시 용산구  0.000  0.000  0.540  0.003   0.003  0.454\n",
       "11200   서울특별시 성동구  0.024  0.002  0.184  0.010   0.078  0.702\n",
       "11215   서울특별시 광진구  0.000  0.004  0.062  0.001   0.191  0.742"
      ]
     },
     "execution_count": 107,
     "metadata": {},
     "output_type": "execute_result"
    }
   ],
   "source": [
    "K = height_agg.pivot_table(\"percent\", ['법정동코드_구', '법정동구'], '지형높이')\n",
    "K.head()"
   ]
  },
  {
   "cell_type": "code",
   "execution_count": 61,
   "metadata": {},
   "outputs": [],
   "source": [
    "K.reset_index(inplace = True)"
   ]
  },
  {
   "cell_type": "code",
   "execution_count": 51,
   "metadata": {},
   "outputs": [],
   "source": [
    "#K.to_csv('/Users/yeonjin/Documents/GitHub/Market-Entry-Analysis/topography_data_preprocessing/tf_seoul/tf_seoul_200618_height.csv')"
   ]
  },
  {
   "cell_type": "code",
   "execution_count": 109,
   "metadata": {
    "scrolled": true
   },
   "outputs": [
    {
     "data": {
      "text/html": [
       "<div>\n",
       "<style scoped>\n",
       "    .dataframe tbody tr th:only-of-type {\n",
       "        vertical-align: middle;\n",
       "    }\n",
       "\n",
       "    .dataframe tbody tr th {\n",
       "        vertical-align: top;\n",
       "    }\n",
       "\n",
       "    .dataframe thead th {\n",
       "        text-align: right;\n",
       "    }\n",
       "</style>\n",
       "<table border=\"1\" class=\"dataframe\">\n",
       "  <thead>\n",
       "    <tr style=\"text-align: right;\">\n",
       "      <th></th>\n",
       "      <th>법정동코드_구</th>\n",
       "      <th>법정동구</th>\n",
       "      <th>공시지가</th>\n",
       "      <th>토지면적</th>\n",
       "    </tr>\n",
       "  </thead>\n",
       "  <tbody>\n",
       "    <tr>\n",
       "      <td>0</td>\n",
       "      <td>11110</td>\n",
       "      <td>서울특별시 종로구</td>\n",
       "      <td>276134754200</td>\n",
       "      <td>15153393.5</td>\n",
       "    </tr>\n",
       "    <tr>\n",
       "      <td>1</td>\n",
       "      <td>11140</td>\n",
       "      <td>서울특별시 중구</td>\n",
       "      <td>324442496300</td>\n",
       "      <td>8840802.8</td>\n",
       "    </tr>\n",
       "    <tr>\n",
       "      <td>2</td>\n",
       "      <td>11170</td>\n",
       "      <td>서울특별시 용산구</td>\n",
       "      <td>236185543300</td>\n",
       "      <td>14541295.3</td>\n",
       "    </tr>\n",
       "    <tr>\n",
       "      <td>3</td>\n",
       "      <td>11200</td>\n",
       "      <td>서울특별시 성동구</td>\n",
       "      <td>128992752900</td>\n",
       "      <td>17637684.3</td>\n",
       "    </tr>\n",
       "    <tr>\n",
       "      <td>4</td>\n",
       "      <td>11215</td>\n",
       "      <td>서울특별시 광진구</td>\n",
       "      <td>118282995100</td>\n",
       "      <td>17992140.4</td>\n",
       "    </tr>\n",
       "  </tbody>\n",
       "</table>\n",
       "</div>"
      ],
      "text/plain": [
       "   법정동코드_구       법정동구          공시지가        토지면적\n",
       "0    11110  서울특별시 종로구  276134754200  15153393.5\n",
       "1    11140   서울특별시 중구  324442496300   8840802.8\n",
       "2    11170  서울특별시 용산구  236185543300  14541295.3\n",
       "3    11200  서울특별시 성동구  128992752900  17637684.3\n",
       "4    11215  서울특별시 광진구  118282995100  17992140.4"
      ]
     },
     "execution_count": 109,
     "metadata": {},
     "output_type": "execute_result"
    }
   ],
   "source": [
    "#2. 산지를 제외하고 공시지가, 토지면적 \n",
    "sum_s = pd.DataFrame(df[df['대장구분명']!='산'].groupby(['법정동코드_구', '법정동구'])[['공시지가','토지면적']].sum()).reset_index()\n",
    "sum_s.head()"
   ]
  },
  {
   "cell_type": "code",
   "execution_count": 72,
   "metadata": {},
   "outputs": [],
   "source": [
    "sum_s['면적당가격'] = round(sum_s['공시지가'] / sum_s['토지면적'],2)"
   ]
  },
  {
   "cell_type": "code",
   "execution_count": 73,
   "metadata": {},
   "outputs": [],
   "source": [
    "merged_gu = pd.merge(K, sum_s)"
   ]
  },
  {
   "cell_type": "code",
   "execution_count": 76,
   "metadata": {},
   "outputs": [],
   "source": [
    "#merged_gu.to_csv('/Users/yeonjin/Documents/GitHub/Market-Entry-Analysis/topography_data_preprocessing/tf_seoul/topology_200618.csv')"
   ]
  },
  {
   "cell_type": "code",
   "execution_count": 88,
   "metadata": {},
   "outputs": [],
   "source": [
    "# 3. 지형형상\n",
    "ss = pd.DataFrame(df.groupby(['법정동코드_구', '법정동구', '지형형상'])['지형형상코드'].count()).reset_index()\n",
    "ss.columns = ['법정동코드_구', '법정동구', '지형형상', '지형형상count']"
   ]
  },
  {
   "cell_type": "code",
   "execution_count": 96,
   "metadata": {
    "scrolled": false
   },
   "outputs": [
    {
     "data": {
      "text/html": [
       "<div>\n",
       "<style scoped>\n",
       "    .dataframe tbody tr th:only-of-type {\n",
       "        vertical-align: middle;\n",
       "    }\n",
       "\n",
       "    .dataframe tbody tr th {\n",
       "        vertical-align: top;\n",
       "    }\n",
       "\n",
       "    .dataframe thead th {\n",
       "        text-align: right;\n",
       "    }\n",
       "</style>\n",
       "<table border=\"1\" class=\"dataframe\">\n",
       "  <thead>\n",
       "    <tr style=\"text-align: right;\">\n",
       "      <th></th>\n",
       "      <th>법정동코드_구</th>\n",
       "      <th>법정동구</th>\n",
       "      <th>지형형상</th>\n",
       "      <th>지형형상count</th>\n",
       "    </tr>\n",
       "  </thead>\n",
       "  <tbody>\n",
       "    <tr>\n",
       "      <td>0</td>\n",
       "      <td>11110</td>\n",
       "      <td>서울특별시 종로구</td>\n",
       "      <td>가로장방</td>\n",
       "      <td>2458</td>\n",
       "    </tr>\n",
       "    <tr>\n",
       "      <td>1</td>\n",
       "      <td>11110</td>\n",
       "      <td>서울특별시 종로구</td>\n",
       "      <td>부정형</td>\n",
       "      <td>12928</td>\n",
       "    </tr>\n",
       "    <tr>\n",
       "      <td>2</td>\n",
       "      <td>11110</td>\n",
       "      <td>서울특별시 종로구</td>\n",
       "      <td>사다리형</td>\n",
       "      <td>18884</td>\n",
       "    </tr>\n",
       "    <tr>\n",
       "      <td>3</td>\n",
       "      <td>11110</td>\n",
       "      <td>서울특별시 종로구</td>\n",
       "      <td>삼각형</td>\n",
       "      <td>997</td>\n",
       "    </tr>\n",
       "    <tr>\n",
       "      <td>4</td>\n",
       "      <td>11110</td>\n",
       "      <td>서울특별시 종로구</td>\n",
       "      <td>세로장방</td>\n",
       "      <td>4248</td>\n",
       "    </tr>\n",
       "    <tr>\n",
       "      <td>...</td>\n",
       "      <td>...</td>\n",
       "      <td>...</td>\n",
       "      <td>...</td>\n",
       "      <td>...</td>\n",
       "    </tr>\n",
       "    <tr>\n",
       "      <td>220</td>\n",
       "      <td>11740</td>\n",
       "      <td>서울특별시 강동구</td>\n",
       "      <td>세로장방</td>\n",
       "      <td>6033</td>\n",
       "    </tr>\n",
       "    <tr>\n",
       "      <td>221</td>\n",
       "      <td>11740</td>\n",
       "      <td>서울특별시 강동구</td>\n",
       "      <td>역삼각형</td>\n",
       "      <td>29</td>\n",
       "    </tr>\n",
       "    <tr>\n",
       "      <td>222</td>\n",
       "      <td>11740</td>\n",
       "      <td>서울특별시 강동구</td>\n",
       "      <td>자루형</td>\n",
       "      <td>1262</td>\n",
       "    </tr>\n",
       "    <tr>\n",
       "      <td>223</td>\n",
       "      <td>11740</td>\n",
       "      <td>서울특별시 강동구</td>\n",
       "      <td>정방형</td>\n",
       "      <td>3377</td>\n",
       "    </tr>\n",
       "    <tr>\n",
       "      <td>224</td>\n",
       "      <td>11740</td>\n",
       "      <td>서울특별시 강동구</td>\n",
       "      <td>지정되지않음</td>\n",
       "      <td>6761</td>\n",
       "    </tr>\n",
       "  </tbody>\n",
       "</table>\n",
       "<p>225 rows × 4 columns</p>\n",
       "</div>"
      ],
      "text/plain": [
       "     법정동코드_구       법정동구    지형형상  지형형상count\n",
       "0      11110  서울특별시 종로구    가로장방       2458\n",
       "1      11110  서울특별시 종로구     부정형      12928\n",
       "2      11110  서울특별시 종로구    사다리형      18884\n",
       "3      11110  서울특별시 종로구     삼각형        997\n",
       "4      11110  서울특별시 종로구    세로장방       4248\n",
       "..       ...        ...     ...        ...\n",
       "220    11740  서울특별시 강동구    세로장방       6033\n",
       "221    11740  서울특별시 강동구    역삼각형         29\n",
       "222    11740  서울특별시 강동구     자루형       1262\n",
       "223    11740  서울특별시 강동구     정방형       3377\n",
       "224    11740  서울특별시 강동구  지정되지않음       6761\n",
       "\n",
       "[225 rows x 4 columns]"
      ]
     },
     "execution_count": 96,
     "metadata": {},
     "output_type": "execute_result"
    }
   ],
   "source": [
    "ss"
   ]
  },
  {
   "cell_type": "code",
   "execution_count": 97,
   "metadata": {},
   "outputs": [],
   "source": [
    "ss2 = pd.DataFrame(df.groupby(['법정동코드_구', '법정동구'])['지형형상코드'].count()).reset_index()\n",
    "ss2.columns = ['법정동코드_구', '법정동구', '지형형상sum']"
   ]
  },
  {
   "cell_type": "code",
   "execution_count": 99,
   "metadata": {
    "scrolled": true
   },
   "outputs": [],
   "source": [
    "ss3 = pd.merge(ss,ss2, how='left')\n",
    "ss3['percent'] = round(ss3['지형형상count'] / ss3['지형형상sum'],3)"
   ]
  },
  {
   "cell_type": "code",
   "execution_count": 100,
   "metadata": {},
   "outputs": [
    {
     "data": {
      "text/html": [
       "<div>\n",
       "<style scoped>\n",
       "    .dataframe tbody tr th:only-of-type {\n",
       "        vertical-align: middle;\n",
       "    }\n",
       "\n",
       "    .dataframe tbody tr th {\n",
       "        vertical-align: top;\n",
       "    }\n",
       "\n",
       "    .dataframe thead th {\n",
       "        text-align: right;\n",
       "    }\n",
       "</style>\n",
       "<table border=\"1\" class=\"dataframe\">\n",
       "  <thead>\n",
       "    <tr style=\"text-align: right;\">\n",
       "      <th></th>\n",
       "      <th>법정동코드_구</th>\n",
       "      <th>법정동구</th>\n",
       "      <th>지형형상</th>\n",
       "      <th>지형형상count</th>\n",
       "      <th>지형형상sum</th>\n",
       "      <th>percent</th>\n",
       "    </tr>\n",
       "  </thead>\n",
       "  <tbody>\n",
       "    <tr>\n",
       "      <td>0</td>\n",
       "      <td>11110</td>\n",
       "      <td>서울특별시 종로구</td>\n",
       "      <td>가로장방</td>\n",
       "      <td>2458</td>\n",
       "      <td>50760</td>\n",
       "      <td>0.048</td>\n",
       "    </tr>\n",
       "    <tr>\n",
       "      <td>1</td>\n",
       "      <td>11110</td>\n",
       "      <td>서울특별시 종로구</td>\n",
       "      <td>부정형</td>\n",
       "      <td>12928</td>\n",
       "      <td>50760</td>\n",
       "      <td>0.255</td>\n",
       "    </tr>\n",
       "    <tr>\n",
       "      <td>2</td>\n",
       "      <td>11110</td>\n",
       "      <td>서울특별시 종로구</td>\n",
       "      <td>사다리형</td>\n",
       "      <td>18884</td>\n",
       "      <td>50760</td>\n",
       "      <td>0.372</td>\n",
       "    </tr>\n",
       "    <tr>\n",
       "      <td>3</td>\n",
       "      <td>11110</td>\n",
       "      <td>서울특별시 종로구</td>\n",
       "      <td>삼각형</td>\n",
       "      <td>997</td>\n",
       "      <td>50760</td>\n",
       "      <td>0.020</td>\n",
       "    </tr>\n",
       "    <tr>\n",
       "      <td>4</td>\n",
       "      <td>11110</td>\n",
       "      <td>서울특별시 종로구</td>\n",
       "      <td>세로장방</td>\n",
       "      <td>4248</td>\n",
       "      <td>50760</td>\n",
       "      <td>0.084</td>\n",
       "    </tr>\n",
       "    <tr>\n",
       "      <td>...</td>\n",
       "      <td>...</td>\n",
       "      <td>...</td>\n",
       "      <td>...</td>\n",
       "      <td>...</td>\n",
       "      <td>...</td>\n",
       "      <td>...</td>\n",
       "    </tr>\n",
       "    <tr>\n",
       "      <td>220</td>\n",
       "      <td>11740</td>\n",
       "      <td>서울특별시 강동구</td>\n",
       "      <td>세로장방</td>\n",
       "      <td>6033</td>\n",
       "      <td>31643</td>\n",
       "      <td>0.191</td>\n",
       "    </tr>\n",
       "    <tr>\n",
       "      <td>221</td>\n",
       "      <td>11740</td>\n",
       "      <td>서울특별시 강동구</td>\n",
       "      <td>역삼각형</td>\n",
       "      <td>29</td>\n",
       "      <td>31643</td>\n",
       "      <td>0.001</td>\n",
       "    </tr>\n",
       "    <tr>\n",
       "      <td>222</td>\n",
       "      <td>11740</td>\n",
       "      <td>서울특별시 강동구</td>\n",
       "      <td>자루형</td>\n",
       "      <td>1262</td>\n",
       "      <td>31643</td>\n",
       "      <td>0.040</td>\n",
       "    </tr>\n",
       "    <tr>\n",
       "      <td>223</td>\n",
       "      <td>11740</td>\n",
       "      <td>서울특별시 강동구</td>\n",
       "      <td>정방형</td>\n",
       "      <td>3377</td>\n",
       "      <td>31643</td>\n",
       "      <td>0.107</td>\n",
       "    </tr>\n",
       "    <tr>\n",
       "      <td>224</td>\n",
       "      <td>11740</td>\n",
       "      <td>서울특별시 강동구</td>\n",
       "      <td>지정되지않음</td>\n",
       "      <td>6761</td>\n",
       "      <td>31643</td>\n",
       "      <td>0.214</td>\n",
       "    </tr>\n",
       "  </tbody>\n",
       "</table>\n",
       "<p>225 rows × 6 columns</p>\n",
       "</div>"
      ],
      "text/plain": [
       "     법정동코드_구       법정동구    지형형상  지형형상count  지형형상sum  percent\n",
       "0      11110  서울특별시 종로구    가로장방       2458    50760    0.048\n",
       "1      11110  서울특별시 종로구     부정형      12928    50760    0.255\n",
       "2      11110  서울특별시 종로구    사다리형      18884    50760    0.372\n",
       "3      11110  서울특별시 종로구     삼각형        997    50760    0.020\n",
       "4      11110  서울특별시 종로구    세로장방       4248    50760    0.084\n",
       "..       ...        ...     ...        ...      ...      ...\n",
       "220    11740  서울특별시 강동구    세로장방       6033    31643    0.191\n",
       "221    11740  서울특별시 강동구    역삼각형         29    31643    0.001\n",
       "222    11740  서울특별시 강동구     자루형       1262    31643    0.040\n",
       "223    11740  서울특별시 강동구     정방형       3377    31643    0.107\n",
       "224    11740  서울특별시 강동구  지정되지않음       6761    31643    0.214\n",
       "\n",
       "[225 rows x 6 columns]"
      ]
     },
     "execution_count": 100,
     "metadata": {},
     "output_type": "execute_result"
    }
   ],
   "source": [
    "ss3"
   ]
  },
  {
   "cell_type": "code",
   "execution_count": 101,
   "metadata": {
    "scrolled": false
   },
   "outputs": [],
   "source": [
    "ndf = ss3.pivot_table('percent',['법정동코드_구', '법정동구'], '지형형상' )"
   ]
  },
  {
   "cell_type": "code",
   "execution_count": 103,
   "metadata": {
    "scrolled": true
   },
   "outputs": [],
   "source": [
    "ndf.reset_index(inplace = True)"
   ]
  },
  {
   "cell_type": "code",
   "execution_count": 110,
   "metadata": {
    "scrolled": true
   },
   "outputs": [
    {
     "data": {
      "text/html": [
       "<div>\n",
       "<style scoped>\n",
       "    .dataframe tbody tr th:only-of-type {\n",
       "        vertical-align: middle;\n",
       "    }\n",
       "\n",
       "    .dataframe tbody tr th {\n",
       "        vertical-align: top;\n",
       "    }\n",
       "\n",
       "    .dataframe thead th {\n",
       "        text-align: right;\n",
       "    }\n",
       "</style>\n",
       "<table border=\"1\" class=\"dataframe\">\n",
       "  <thead>\n",
       "    <tr style=\"text-align: right;\">\n",
       "      <th>지형형상</th>\n",
       "      <th>법정동코드_구</th>\n",
       "      <th>법정동구</th>\n",
       "      <th>가로장방</th>\n",
       "      <th>부정형</th>\n",
       "      <th>사다리형</th>\n",
       "      <th>삼각형</th>\n",
       "      <th>세로장방</th>\n",
       "      <th>역삼각형</th>\n",
       "      <th>자루형</th>\n",
       "      <th>정방형</th>\n",
       "      <th>지정되지않음</th>\n",
       "    </tr>\n",
       "  </thead>\n",
       "  <tbody>\n",
       "    <tr>\n",
       "      <td>0</td>\n",
       "      <td>11110</td>\n",
       "      <td>서울특별시 종로구</td>\n",
       "      <td>0.048</td>\n",
       "      <td>0.255</td>\n",
       "      <td>0.372</td>\n",
       "      <td>0.020</td>\n",
       "      <td>0.084</td>\n",
       "      <td>0.001</td>\n",
       "      <td>0.026</td>\n",
       "      <td>0.029</td>\n",
       "      <td>0.167</td>\n",
       "    </tr>\n",
       "    <tr>\n",
       "      <td>1</td>\n",
       "      <td>11140</td>\n",
       "      <td>서울특별시 중구</td>\n",
       "      <td>0.061</td>\n",
       "      <td>0.019</td>\n",
       "      <td>0.465</td>\n",
       "      <td>0.011</td>\n",
       "      <td>0.135</td>\n",
       "      <td>0.000</td>\n",
       "      <td>0.034</td>\n",
       "      <td>0.030</td>\n",
       "      <td>0.245</td>\n",
       "    </tr>\n",
       "    <tr>\n",
       "      <td>2</td>\n",
       "      <td>11170</td>\n",
       "      <td>서울특별시 용산구</td>\n",
       "      <td>0.066</td>\n",
       "      <td>0.264</td>\n",
       "      <td>0.443</td>\n",
       "      <td>0.026</td>\n",
       "      <td>0.124</td>\n",
       "      <td>0.000</td>\n",
       "      <td>0.022</td>\n",
       "      <td>0.051</td>\n",
       "      <td>0.003</td>\n",
       "    </tr>\n",
       "    <tr>\n",
       "      <td>3</td>\n",
       "      <td>11200</td>\n",
       "      <td>서울특별시 성동구</td>\n",
       "      <td>0.056</td>\n",
       "      <td>0.179</td>\n",
       "      <td>0.347</td>\n",
       "      <td>0.013</td>\n",
       "      <td>0.104</td>\n",
       "      <td>0.000</td>\n",
       "      <td>0.021</td>\n",
       "      <td>0.076</td>\n",
       "      <td>0.205</td>\n",
       "    </tr>\n",
       "    <tr>\n",
       "      <td>4</td>\n",
       "      <td>11215</td>\n",
       "      <td>서울특별시 광진구</td>\n",
       "      <td>0.128</td>\n",
       "      <td>0.086</td>\n",
       "      <td>0.163</td>\n",
       "      <td>0.011</td>\n",
       "      <td>0.234</td>\n",
       "      <td>0.000</td>\n",
       "      <td>0.045</td>\n",
       "      <td>0.141</td>\n",
       "      <td>0.192</td>\n",
       "    </tr>\n",
       "  </tbody>\n",
       "</table>\n",
       "</div>"
      ],
      "text/plain": [
       "지형형상  법정동코드_구       법정동구   가로장방    부정형   사다리형    삼각형   세로장방   역삼각형    자루형  \\\n",
       "0       11110  서울특별시 종로구  0.048  0.255  0.372  0.020  0.084  0.001  0.026   \n",
       "1       11140   서울특별시 중구  0.061  0.019  0.465  0.011  0.135  0.000  0.034   \n",
       "2       11170  서울특별시 용산구  0.066  0.264  0.443  0.026  0.124  0.000  0.022   \n",
       "3       11200  서울특별시 성동구  0.056  0.179  0.347  0.013  0.104  0.000  0.021   \n",
       "4       11215  서울특별시 광진구  0.128  0.086  0.163  0.011  0.234  0.000  0.045   \n",
       "\n",
       "지형형상    정방형  지정되지않음  \n",
       "0     0.029   0.167  \n",
       "1     0.030   0.245  \n",
       "2     0.051   0.003  \n",
       "3     0.076   0.205  \n",
       "4     0.141   0.192  "
      ]
     },
     "execution_count": 110,
     "metadata": {},
     "output_type": "execute_result"
    }
   ],
   "source": [
    "ndf.head()"
   ]
  },
  {
   "cell_type": "code",
   "execution_count": 93,
   "metadata": {},
   "outputs": [],
   "source": []
  },
  {
   "cell_type": "code",
   "execution_count": null,
   "metadata": {},
   "outputs": [],
   "source": []
  }
 ],
 "metadata": {
  "kernelspec": {
   "display_name": "Python 3",
   "language": "python",
   "name": "python3"
  },
  "language_info": {
   "codemirror_mode": {
    "name": "ipython",
    "version": 3
   },
   "file_extension": ".py",
   "mimetype": "text/x-python",
   "name": "python",
   "nbconvert_exporter": "python",
   "pygments_lexer": "ipython3",
   "version": "3.7.4"
  }
 },
 "nbformat": 4,
 "nbformat_minor": 2
}
