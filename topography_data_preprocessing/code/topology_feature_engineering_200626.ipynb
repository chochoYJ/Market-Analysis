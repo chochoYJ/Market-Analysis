{
 "cells": [
  {
   "cell_type": "code",
   "execution_count": 1,
   "metadata": {},
   "outputs": [],
   "source": [
    "import pandas as pd"
   ]
  },
  {
   "cell_type": "code",
   "execution_count": 2,
   "metadata": {},
   "outputs": [],
   "source": [
    "topology1 = pd.read_csv('/Users/yeonjin/Documents/GitHub/Market-Entry-Analysis/topography_data_preprocessing/tf_seoul/topology_200619.csv')"
   ]
  },
  {
   "cell_type": "code",
   "execution_count": 3,
   "metadata": {},
   "outputs": [
    {
     "name": "stderr",
     "output_type": "stream",
     "text": [
      "/Users/yeonjin/opt/anaconda3/lib/python3.7/site-packages/IPython/core/interactiveshell.py:3058: DtypeWarning: Columns (0) have mixed types. Specify dtype option on import or set low_memory=False.\n",
      "  interactivity=interactivity, compiler=compiler, result=result)\n"
     ]
    }
   ],
   "source": [
    "# raw dataset\n",
    "df = pd.read_csv('/Users/yeonjin/Documents/GitHub/Market-Entry-Analysis/topography_data_preprocessing/tf_seoul/tf_seoul_200617_after_jipgyegu.csv')"
   ]
  },
  {
   "cell_type": "code",
   "execution_count": 4,
   "metadata": {
    "scrolled": true
   },
   "outputs": [
    {
     "data": {
      "text/plain": [
       "Index(['고유번호', '법정동코드', '법정동명', '대장구분코드', '대장구분명', '지번', '토지일련번호', '기준년도',\n",
       "       '기준월', '지목코드', '지목명', '토지면적', '용도지역코드1', '용도지역명1', '용도지역코드2', '용도지역명2',\n",
       "       '토지이용상황코드', '토지이동상황', '지형높이코드', '지형높이', '지형형상코드', '지형형상', '도로접면코드',\n",
       "       '도로접면', '공시지가', '데이터기준일자', 'standard_date', '법정동코드_구', '법정동구'],\n",
       "      dtype='object')"
      ]
     },
     "execution_count": 4,
     "metadata": {},
     "output_type": "execute_result"
    }
   ],
   "source": [
    "df.columns"
   ]
  },
  {
   "cell_type": "markdown",
   "metadata": {},
   "source": [
    "# 1. 최종본 요약을 위한 정리\n",
    "\n",
    "- 단위 : 면적\n",
    "- fillna(0)\n",
    "- 제외 및 통합 데이터 선정"
   ]
  },
  {
   "cell_type": "markdown",
   "metadata": {},
   "source": [
    "## 1. 토지이동상황"
   ]
  },
  {
   "cell_type": "code",
   "execution_count": 5,
   "metadata": {
    "scrolled": false
   },
   "outputs": [],
   "source": [
    "y = pd.DataFrame(df.groupby(['토지이동상황'])['토지면적'].sum()/1000).sort_values(by = '토지면적', ascending = False).reset_index()"
   ]
  },
  {
   "cell_type": "code",
   "execution_count": 8,
   "metadata": {},
   "outputs": [
    {
     "name": "stdout",
     "output_type": "stream",
     "text": [
      "아파트\n"
     ]
    }
   ],
   "source": [
    "print(df.loc[0,'토지이동상황'])"
   ]
  },
  {
   "cell_type": "code",
   "execution_count": 28,
   "metadata": {
    "scrolled": true
   },
   "outputs": [
    {
     "name": "stderr",
     "output_type": "stream",
     "text": [
      "/Users/yeonjin/opt/anaconda3/lib/python3.7/site-packages/ipykernel_launcher.py:3: SettingWithCopyWarning: \n",
      "A value is trying to be set on a copy of a slice from a DataFrame\n",
      "\n",
      "See the caveats in the documentation: http://pandas.pydata.org/pandas-docs/stable/user_guide/indexing.html#returning-a-view-versus-a-copy\n",
      "  This is separate from the ipykernel package so we can avoid doing imports until\n"
     ]
    }
   ],
   "source": [
    "# for i in range(len(x['토지이동상황'].str.startswith('전'))):\n",
    "#      if x['토지이동상황'].str.startswith('전')[i] == True:\n",
    "#             x['토지이동상황'][i] = '전'"
   ]
  },
  {
   "cell_type": "code",
   "execution_count": 6,
   "metadata": {},
   "outputs": [],
   "source": [
    "jugeo = ['주거용', '단독', '연립', '다세대', '아파트', '주거나지', '주거기타']\n",
    "sangup = ['상업용', '업무용', '상업', '업무나지', '상업나지', '상업기타', '업무기타']\n",
    "jusang = ['주상복합용', '주상용', '주상나지', '주상기타']\n",
    "gong = ['공업용', '공업나지', '공업기타']\n",
    "jeon = ['전', '과수원', '전기타', '전창고', '전축사']\n",
    "dap = ['답', '답기타', '답축사']\n",
    "imya = ['임야', '조림', '자연림', '토지임야', '목장용지', '임야기타']"
   ]
  },
  {
   "cell_type": "code",
   "execution_count": 47,
   "metadata": {
    "scrolled": true
   },
   "outputs": [],
   "source": [
    "# for i in range(len(df)):\n",
    "#     for j in list_up:\n",
    "#         if(df.loc[i,'토지이동상황'] in j):\n",
    "#             df.loc[i,'uage_listup'] = j[0]"
   ]
  },
  {
   "cell_type": "code",
   "execution_count": 48,
   "metadata": {},
   "outputs": [],
   "source": [
    "list_up = [jugeo, sangup, jusang, gong, jeon, dap, imya]"
   ]
  },
  {
   "cell_type": "code",
   "execution_count": 49,
   "metadata": {},
   "outputs": [],
   "source": [
    "# for i in range(len(df)):\n",
    "#     if ( df.loc[i,'토지이동상황'] == '단독') | (df.loc[i,'토지이동상황'] == '연립') | (df.loc[i,'토지이동상황'] == '아파트') | (df.loc[i,'토지이동상황'] == '다세대') | (df.loc[i,'토지이동상황'] == '주거나지') | (df.loc[i,'토지이동상황'] == '주거기타') :\n",
    "#         df.loc[i,'토지이용summary'] = '주거용'"
   ]
  },
  {
   "cell_type": "code",
   "execution_count": 8,
   "metadata": {
    "scrolled": true
   },
   "outputs": [],
   "source": [
    "df_usage = df['토지이동상황']"
   ]
  },
  {
   "cell_type": "code",
   "execution_count": 9,
   "metadata": {},
   "outputs": [],
   "source": [
    "kk = ['' for i in range(985465)]"
   ]
  },
  {
   "cell_type": "code",
   "execution_count": 10,
   "metadata": {
    "scrolled": true
   },
   "outputs": [],
   "source": [
    "for k in list_up:\n",
    "    #print(k[0])\n",
    "    for i in range(len(df_usage)):\n",
    "        if df_usage[i] in k:\n",
    "            kk[i] = k[0]"
   ]
  },
  {
   "cell_type": "code",
   "execution_count": 11,
   "metadata": {},
   "outputs": [],
   "source": [
    "kk2 = kk"
   ]
  },
  {
   "cell_type": "code",
   "execution_count": 12,
   "metadata": {},
   "outputs": [],
   "source": [
    "for i in range(len(kk2)):\n",
    "    if kk2[i] == '':\n",
    "        kk2[i] = df_usage[i]"
   ]
  },
  {
   "cell_type": "code",
   "execution_count": 13,
   "metadata": {},
   "outputs": [],
   "source": [
    "for i in range(len(kk2)):\n",
    "    if (kk2[i] == '위험시설') or (kk2[i] == '유해.혐오시설') :\n",
    "        kk2[i] = '위험.유해.혐오'"
   ]
  },
  {
   "cell_type": "code",
   "execution_count": 14,
   "metadata": {},
   "outputs": [
    {
     "data": {
      "text/plain": [
       "0    88\n",
       "dtype: int64"
      ]
     },
     "execution_count": 14,
     "metadata": {},
     "output_type": "execute_result"
    }
   ],
   "source": [
    "pd.DataFrame(kk2).isnull().sum()"
   ]
  },
  {
   "cell_type": "code",
   "execution_count": 15,
   "metadata": {},
   "outputs": [],
   "source": [
    "kk3 = pd.DataFrame(kk2).fillna('기타')"
   ]
  },
  {
   "cell_type": "code",
   "execution_count": 16,
   "metadata": {
    "scrolled": true
   },
   "outputs": [
    {
     "data": {
      "text/html": [
       "<div>\n",
       "<style scoped>\n",
       "    .dataframe tbody tr th:only-of-type {\n",
       "        vertical-align: middle;\n",
       "    }\n",
       "\n",
       "    .dataframe tbody tr th {\n",
       "        vertical-align: top;\n",
       "    }\n",
       "\n",
       "    .dataframe thead th {\n",
       "        text-align: right;\n",
       "    }\n",
       "</style>\n",
       "<table border=\"1\" class=\"dataframe\">\n",
       "  <thead>\n",
       "    <tr style=\"text-align: right;\">\n",
       "      <th></th>\n",
       "      <th>0</th>\n",
       "    </tr>\n",
       "  </thead>\n",
       "  <tbody>\n",
       "    <tr>\n",
       "      <td>0</td>\n",
       "      <td>주거용</td>\n",
       "    </tr>\n",
       "    <tr>\n",
       "      <td>1</td>\n",
       "      <td>도로등</td>\n",
       "    </tr>\n",
       "    <tr>\n",
       "      <td>6</td>\n",
       "      <td>공원등</td>\n",
       "    </tr>\n",
       "    <tr>\n",
       "      <td>65</td>\n",
       "      <td>임야</td>\n",
       "    </tr>\n",
       "    <tr>\n",
       "      <td>239</td>\n",
       "      <td>상업용</td>\n",
       "    </tr>\n",
       "    <tr>\n",
       "      <td>667</td>\n",
       "      <td>주상복합용</td>\n",
       "    </tr>\n",
       "    <tr>\n",
       "      <td>1364</td>\n",
       "      <td>주차장등</td>\n",
       "    </tr>\n",
       "    <tr>\n",
       "      <td>10829</td>\n",
       "      <td>하천등</td>\n",
       "    </tr>\n",
       "    <tr>\n",
       "      <td>26600</td>\n",
       "      <td>운동장등</td>\n",
       "    </tr>\n",
       "    <tr>\n",
       "      <td>35914</td>\n",
       "      <td>공업용</td>\n",
       "    </tr>\n",
       "    <tr>\n",
       "      <td>41936</td>\n",
       "      <td>전</td>\n",
       "    </tr>\n",
       "    <tr>\n",
       "      <td>74707</td>\n",
       "      <td>위험.유해.혐오</td>\n",
       "    </tr>\n",
       "    <tr>\n",
       "      <td>93780</td>\n",
       "      <td>기타</td>\n",
       "    </tr>\n",
       "    <tr>\n",
       "      <td>181231</td>\n",
       "      <td>여객자동차터미널</td>\n",
       "    </tr>\n",
       "    <tr>\n",
       "      <td>277734</td>\n",
       "      <td>NaN</td>\n",
       "    </tr>\n",
       "    <tr>\n",
       "      <td>391183</td>\n",
       "      <td>콘도미니엄</td>\n",
       "    </tr>\n",
       "    <tr>\n",
       "      <td>399481</td>\n",
       "      <td>답</td>\n",
       "    </tr>\n",
       "    <tr>\n",
       "      <td>420021</td>\n",
       "      <td>특수기타</td>\n",
       "    </tr>\n",
       "    <tr>\n",
       "      <td>566409</td>\n",
       "      <td>발전소</td>\n",
       "    </tr>\n",
       "    <tr>\n",
       "      <td>641865</td>\n",
       "      <td>공항</td>\n",
       "    </tr>\n",
       "    <tr>\n",
       "      <td>657818</td>\n",
       "      <td>골프장 대중제</td>\n",
       "    </tr>\n",
       "    <tr>\n",
       "      <td>867174</td>\n",
       "      <td>고속도로휴게소</td>\n",
       "    </tr>\n",
       "    <tr>\n",
       "      <td>919997</td>\n",
       "      <td>유원지</td>\n",
       "    </tr>\n",
       "  </tbody>\n",
       "</table>\n",
       "</div>"
      ],
      "text/plain": [
       "               0\n",
       "0            주거용\n",
       "1            도로등\n",
       "6            공원등\n",
       "65            임야\n",
       "239          상업용\n",
       "667        주상복합용\n",
       "1364        주차장등\n",
       "10829        하천등\n",
       "26600       운동장등\n",
       "35914        공업용\n",
       "41936          전\n",
       "74707   위험.유해.혐오\n",
       "93780         기타\n",
       "181231  여객자동차터미널\n",
       "277734       NaN\n",
       "391183     콘도미니엄\n",
       "399481         답\n",
       "420021      특수기타\n",
       "566409       발전소\n",
       "641865        공항\n",
       "657818   골프장 대중제\n",
       "867174   고속도로휴게소\n",
       "919997       유원지"
      ]
     },
     "execution_count": 16,
     "metadata": {},
     "output_type": "execute_result"
    }
   ],
   "source": [
    "pd.DataFrame(kk2).drop_duplicates()"
   ]
  },
  {
   "cell_type": "code",
   "execution_count": 17,
   "metadata": {},
   "outputs": [],
   "source": [
    "df['토지이용summary'] = kk3"
   ]
  },
  {
   "cell_type": "code",
   "execution_count": 50,
   "metadata": {},
   "outputs": [],
   "source": [
    "#df.drop('uage_listup', axis = 1, inplace = True)\n",
    "#df"
   ]
  },
  {
   "cell_type": "markdown",
   "metadata": {},
   "source": [
    "## 사용할 데이터만 추리기"
   ]
  },
  {
   "cell_type": "code",
   "execution_count": 19,
   "metadata": {},
   "outputs": [
    {
     "data": {
      "text/html": [
       "<div>\n",
       "<style scoped>\n",
       "    .dataframe tbody tr th:only-of-type {\n",
       "        vertical-align: middle;\n",
       "    }\n",
       "\n",
       "    .dataframe tbody tr th {\n",
       "        vertical-align: top;\n",
       "    }\n",
       "\n",
       "    .dataframe thead th {\n",
       "        text-align: right;\n",
       "    }\n",
       "</style>\n",
       "<table border=\"1\" class=\"dataframe\">\n",
       "  <thead>\n",
       "    <tr style=\"text-align: right;\">\n",
       "      <th></th>\n",
       "      <th>지목명</th>\n",
       "      <th>토지면적</th>\n",
       "      <th>용도지역명1</th>\n",
       "      <th>토지이동상황</th>\n",
       "      <th>지형높이</th>\n",
       "      <th>지형형상</th>\n",
       "      <th>도로접면</th>\n",
       "      <th>공시지가</th>\n",
       "      <th>데이터기준일자</th>\n",
       "      <th>standard_date</th>\n",
       "      <th>법정동코드_구</th>\n",
       "      <th>법정동구</th>\n",
       "      <th>토지이용summary</th>\n",
       "    </tr>\n",
       "  </thead>\n",
       "  <tbody>\n",
       "    <tr>\n",
       "      <td>0</td>\n",
       "      <td>대</td>\n",
       "      <td>15622.1</td>\n",
       "      <td>제1종일반주거지역</td>\n",
       "      <td>아파트</td>\n",
       "      <td>평지</td>\n",
       "      <td>사다리형</td>\n",
       "      <td>소로한면</td>\n",
       "      <td>3961000</td>\n",
       "      <td>2019-08-08</td>\n",
       "      <td>2019-01-01</td>\n",
       "      <td>11110</td>\n",
       "      <td>서울특별시 종로구</td>\n",
       "      <td>주거용</td>\n",
       "    </tr>\n",
       "    <tr>\n",
       "      <td>1</td>\n",
       "      <td>도로</td>\n",
       "      <td>21.4</td>\n",
       "      <td>제1종일반주거지역</td>\n",
       "      <td>도로등</td>\n",
       "      <td>평지</td>\n",
       "      <td>부정형</td>\n",
       "      <td>지정되지않음</td>\n",
       "      <td>1296000</td>\n",
       "      <td>2019-08-08</td>\n",
       "      <td>2019-01-01</td>\n",
       "      <td>11110</td>\n",
       "      <td>서울특별시 종로구</td>\n",
       "      <td>도로등</td>\n",
       "    </tr>\n",
       "    <tr>\n",
       "      <td>2</td>\n",
       "      <td>대</td>\n",
       "      <td>20.7</td>\n",
       "      <td>제1종일반주거지역</td>\n",
       "      <td>주거나지</td>\n",
       "      <td>완경사</td>\n",
       "      <td>부정형</td>\n",
       "      <td>맹지</td>\n",
       "      <td>3267000</td>\n",
       "      <td>2019-08-08</td>\n",
       "      <td>2019-01-01</td>\n",
       "      <td>11110</td>\n",
       "      <td>서울특별시 종로구</td>\n",
       "      <td>주거용</td>\n",
       "    </tr>\n",
       "    <tr>\n",
       "      <td>3</td>\n",
       "      <td>대</td>\n",
       "      <td>24.4</td>\n",
       "      <td>제1종일반주거지역</td>\n",
       "      <td>연립</td>\n",
       "      <td>평지</td>\n",
       "      <td>부정형</td>\n",
       "      <td>소로한면</td>\n",
       "      <td>4255000</td>\n",
       "      <td>2019-08-08</td>\n",
       "      <td>2019-01-01</td>\n",
       "      <td>11110</td>\n",
       "      <td>서울특별시 종로구</td>\n",
       "      <td>주거용</td>\n",
       "    </tr>\n",
       "    <tr>\n",
       "      <td>4</td>\n",
       "      <td>도로</td>\n",
       "      <td>48.9</td>\n",
       "      <td>제1종일반주거지역</td>\n",
       "      <td>도로등</td>\n",
       "      <td>평지</td>\n",
       "      <td>부정형</td>\n",
       "      <td>지정되지않음</td>\n",
       "      <td>1524000</td>\n",
       "      <td>2019-08-08</td>\n",
       "      <td>2019-01-01</td>\n",
       "      <td>11110</td>\n",
       "      <td>서울특별시 종로구</td>\n",
       "      <td>도로등</td>\n",
       "    </tr>\n",
       "  </tbody>\n",
       "</table>\n",
       "</div>"
      ],
      "text/plain": [
       "  지목명     토지면적     용도지역명1 토지이동상황 지형높이  지형형상    도로접면     공시지가     데이터기준일자  \\\n",
       "0   대  15622.1  제1종일반주거지역    아파트   평지  사다리형    소로한면  3961000  2019-08-08   \n",
       "1  도로     21.4  제1종일반주거지역    도로등   평지   부정형  지정되지않음  1296000  2019-08-08   \n",
       "2   대     20.7  제1종일반주거지역   주거나지  완경사   부정형      맹지  3267000  2019-08-08   \n",
       "3   대     24.4  제1종일반주거지역     연립   평지   부정형    소로한면  4255000  2019-08-08   \n",
       "4  도로     48.9  제1종일반주거지역    도로등   평지   부정형  지정되지않음  1524000  2019-08-08   \n",
       "\n",
       "  standard_date  법정동코드_구       법정동구 토지이용summary  \n",
       "0    2019-01-01    11110  서울특별시 종로구         주거용  \n",
       "1    2019-01-01    11110  서울특별시 종로구         도로등  \n",
       "2    2019-01-01    11110  서울특별시 종로구         주거용  \n",
       "3    2019-01-01    11110  서울특별시 종로구         주거용  \n",
       "4    2019-01-01    11110  서울특별시 종로구         도로등  "
      ]
     },
     "execution_count": 19,
     "metadata": {},
     "output_type": "execute_result"
    }
   ],
   "source": [
    "ndf = df[['지목명', '토지면적', '용도지역명1','토지이동상황', \n",
    "'지형높이', '지형형상', '도로접면', '공시지가', \n",
    "'데이터기준일자', 'standard_date', '법정동코드_구', '법정동구', '토지이용summary']]\n",
    "ndf.head()"
   ]
  },
  {
   "cell_type": "code",
   "execution_count": 20,
   "metadata": {
    "scrolled": true
   },
   "outputs": [
    {
     "name": "stderr",
     "output_type": "stream",
     "text": [
      "/Users/yeonjin/opt/anaconda3/lib/python3.7/site-packages/pandas/core/frame.py:4223: SettingWithCopyWarning: \n",
      "A value is trying to be set on a copy of a slice from a DataFrame\n",
      "\n",
      "See the caveats in the documentation: http://pandas.pydata.org/pandas-docs/stable/user_guide/indexing.html#returning-a-view-versus-a-copy\n",
      "  return super().rename(**kwargs)\n"
     ]
    },
    {
     "data": {
      "text/html": [
       "<div>\n",
       "<style scoped>\n",
       "    .dataframe tbody tr th:only-of-type {\n",
       "        vertical-align: middle;\n",
       "    }\n",
       "\n",
       "    .dataframe tbody tr th {\n",
       "        vertical-align: top;\n",
       "    }\n",
       "\n",
       "    .dataframe thead th {\n",
       "        text-align: right;\n",
       "    }\n",
       "</style>\n",
       "<table border=\"1\" class=\"dataframe\">\n",
       "  <thead>\n",
       "    <tr style=\"text-align: right;\">\n",
       "      <th></th>\n",
       "      <th>지목명</th>\n",
       "      <th>토지면적</th>\n",
       "      <th>용도지역명1</th>\n",
       "      <th>토지이용상황</th>\n",
       "      <th>지형높이</th>\n",
       "      <th>지형형상</th>\n",
       "      <th>도로접면</th>\n",
       "      <th>공시지가</th>\n",
       "      <th>데이터기준일자</th>\n",
       "      <th>standard_date</th>\n",
       "      <th>법정동코드_구</th>\n",
       "      <th>법정동구</th>\n",
       "      <th>토지이용summary</th>\n",
       "    </tr>\n",
       "  </thead>\n",
       "  <tbody>\n",
       "    <tr>\n",
       "      <td>0</td>\n",
       "      <td>대</td>\n",
       "      <td>15622.1</td>\n",
       "      <td>제1종일반주거지역</td>\n",
       "      <td>아파트</td>\n",
       "      <td>평지</td>\n",
       "      <td>사다리형</td>\n",
       "      <td>소로한면</td>\n",
       "      <td>3961000</td>\n",
       "      <td>2019-08-08</td>\n",
       "      <td>2019-01-01</td>\n",
       "      <td>11110</td>\n",
       "      <td>서울특별시 종로구</td>\n",
       "      <td>주거용</td>\n",
       "    </tr>\n",
       "    <tr>\n",
       "      <td>1</td>\n",
       "      <td>도로</td>\n",
       "      <td>21.4</td>\n",
       "      <td>제1종일반주거지역</td>\n",
       "      <td>도로등</td>\n",
       "      <td>평지</td>\n",
       "      <td>부정형</td>\n",
       "      <td>지정되지않음</td>\n",
       "      <td>1296000</td>\n",
       "      <td>2019-08-08</td>\n",
       "      <td>2019-01-01</td>\n",
       "      <td>11110</td>\n",
       "      <td>서울특별시 종로구</td>\n",
       "      <td>도로등</td>\n",
       "    </tr>\n",
       "    <tr>\n",
       "      <td>2</td>\n",
       "      <td>대</td>\n",
       "      <td>20.7</td>\n",
       "      <td>제1종일반주거지역</td>\n",
       "      <td>주거나지</td>\n",
       "      <td>완경사</td>\n",
       "      <td>부정형</td>\n",
       "      <td>맹지</td>\n",
       "      <td>3267000</td>\n",
       "      <td>2019-08-08</td>\n",
       "      <td>2019-01-01</td>\n",
       "      <td>11110</td>\n",
       "      <td>서울특별시 종로구</td>\n",
       "      <td>주거용</td>\n",
       "    </tr>\n",
       "    <tr>\n",
       "      <td>3</td>\n",
       "      <td>대</td>\n",
       "      <td>24.4</td>\n",
       "      <td>제1종일반주거지역</td>\n",
       "      <td>연립</td>\n",
       "      <td>평지</td>\n",
       "      <td>부정형</td>\n",
       "      <td>소로한면</td>\n",
       "      <td>4255000</td>\n",
       "      <td>2019-08-08</td>\n",
       "      <td>2019-01-01</td>\n",
       "      <td>11110</td>\n",
       "      <td>서울특별시 종로구</td>\n",
       "      <td>주거용</td>\n",
       "    </tr>\n",
       "    <tr>\n",
       "      <td>4</td>\n",
       "      <td>도로</td>\n",
       "      <td>48.9</td>\n",
       "      <td>제1종일반주거지역</td>\n",
       "      <td>도로등</td>\n",
       "      <td>평지</td>\n",
       "      <td>부정형</td>\n",
       "      <td>지정되지않음</td>\n",
       "      <td>1524000</td>\n",
       "      <td>2019-08-08</td>\n",
       "      <td>2019-01-01</td>\n",
       "      <td>11110</td>\n",
       "      <td>서울특별시 종로구</td>\n",
       "      <td>도로등</td>\n",
       "    </tr>\n",
       "  </tbody>\n",
       "</table>\n",
       "</div>"
      ],
      "text/plain": [
       "  지목명     토지면적     용도지역명1 토지이용상황 지형높이  지형형상    도로접면     공시지가     데이터기준일자  \\\n",
       "0   대  15622.1  제1종일반주거지역    아파트   평지  사다리형    소로한면  3961000  2019-08-08   \n",
       "1  도로     21.4  제1종일반주거지역    도로등   평지   부정형  지정되지않음  1296000  2019-08-08   \n",
       "2   대     20.7  제1종일반주거지역   주거나지  완경사   부정형      맹지  3267000  2019-08-08   \n",
       "3   대     24.4  제1종일반주거지역     연립   평지   부정형    소로한면  4255000  2019-08-08   \n",
       "4  도로     48.9  제1종일반주거지역    도로등   평지   부정형  지정되지않음  1524000  2019-08-08   \n",
       "\n",
       "  standard_date  법정동코드_구       법정동구 토지이용summary  \n",
       "0    2019-01-01    11110  서울특별시 종로구         주거용  \n",
       "1    2019-01-01    11110  서울특별시 종로구         도로등  \n",
       "2    2019-01-01    11110  서울특별시 종로구         주거용  \n",
       "3    2019-01-01    11110  서울특별시 종로구         주거용  \n",
       "4    2019-01-01    11110  서울특별시 종로구         도로등  "
      ]
     },
     "execution_count": 20,
     "metadata": {},
     "output_type": "execute_result"
    }
   ],
   "source": [
    "ndf.rename(columns = {'토지이동상황' : '토지이용상황'}, inplace = True)\n",
    "ndf.head()"
   ]
  },
  {
   "cell_type": "code",
   "execution_count": 21,
   "metadata": {
    "scrolled": true
   },
   "outputs": [
    {
     "data": {
      "text/plain": [
       "0"
      ]
     },
     "execution_count": 21,
     "metadata": {},
     "output_type": "execute_result"
    }
   ],
   "source": [
    "ndf['토지이용summary'].isnull().sum()"
   ]
  },
  {
   "cell_type": "markdown",
   "metadata": {},
   "source": [
    "### 개발 제한 구역 제외 후 사용\n",
    "이유 :  # 개발제한구역은 종로구에서 차지하는 비율이 너무 큰데, 이건 오히려 행정상의 문제가 있으므로 일단 배제함\n",
    "\n",
    "1. 지목명 [JMM]"
   ]
  },
  {
   "cell_type": "code",
   "execution_count": 22,
   "metadata": {},
   "outputs": [
    {
     "data": {
      "text/html": [
       "<div>\n",
       "<style scoped>\n",
       "    .dataframe tbody tr th:only-of-type {\n",
       "        vertical-align: middle;\n",
       "    }\n",
       "\n",
       "    .dataframe tbody tr th {\n",
       "        vertical-align: top;\n",
       "    }\n",
       "\n",
       "    .dataframe thead th {\n",
       "        text-align: right;\n",
       "    }\n",
       "</style>\n",
       "<table border=\"1\" class=\"dataframe\">\n",
       "  <thead>\n",
       "    <tr style=\"text-align: right;\">\n",
       "      <th></th>\n",
       "      <th>법정동구</th>\n",
       "      <th>지목명</th>\n",
       "      <th>토지면적</th>\n",
       "    </tr>\n",
       "  </thead>\n",
       "  <tbody>\n",
       "    <tr>\n",
       "      <td>0</td>\n",
       "      <td>서울특별시 강남구</td>\n",
       "      <td>공원</td>\n",
       "      <td>1725299.7</td>\n",
       "    </tr>\n",
       "    <tr>\n",
       "      <td>1</td>\n",
       "      <td>서울특별시 강남구</td>\n",
       "      <td>공장용지</td>\n",
       "      <td>8331.0</td>\n",
       "    </tr>\n",
       "    <tr>\n",
       "      <td>2</td>\n",
       "      <td>서울특별시 강남구</td>\n",
       "      <td>구거</td>\n",
       "      <td>16909.0</td>\n",
       "    </tr>\n",
       "    <tr>\n",
       "      <td>3</td>\n",
       "      <td>서울특별시 강남구</td>\n",
       "      <td>답</td>\n",
       "      <td>456559.4</td>\n",
       "    </tr>\n",
       "    <tr>\n",
       "      <td>4</td>\n",
       "      <td>서울특별시 강남구</td>\n",
       "      <td>대</td>\n",
       "      <td>17392871.6</td>\n",
       "    </tr>\n",
       "  </tbody>\n",
       "</table>\n",
       "</div>"
      ],
      "text/plain": [
       "        법정동구   지목명        토지면적\n",
       "0  서울특별시 강남구    공원   1725299.7\n",
       "1  서울특별시 강남구  공장용지      8331.0\n",
       "2  서울특별시 강남구    구거     16909.0\n",
       "3  서울특별시 강남구     답    456559.4\n",
       "4  서울특별시 강남구     대  17392871.6"
      ]
     },
     "execution_count": 22,
     "metadata": {},
     "output_type": "execute_result"
    }
   ],
   "source": [
    "a1 = pd.DataFrame(ndf[ndf['용도지역명1'] != '개발제한구역'].groupby(['법정동구', '지목명'])['토지면적'].sum()).reset_index()\n",
    "#a1[a1['법정동구'].str.contains('종로구') ]\n",
    "a1.head()"
   ]
  },
  {
   "cell_type": "code",
   "execution_count": 23,
   "metadata": {},
   "outputs": [],
   "source": [
    "# JMM : 지목명 - 해당 지목이 차지하는 면적을 총계냄\n",
    "JMM = a1[(a1['지목명'] == '도로') | (a1['지목명'] == '공원') | (a1['지목명'] == '주차장') | (a1['지목명'] == '체육용지') | (a1['지목명'] == '학교용지')]"
   ]
  },
  {
   "cell_type": "markdown",
   "metadata": {},
   "source": [
    "2. 용도지역명 []\n",
    "해당 구에서 각 용도지역명이 차지하는 비중을 산출\n",
    "3. 전체 면적 : 개발제한구역 제외 (a2_)"
   ]
  },
  {
   "cell_type": "code",
   "execution_count": 24,
   "metadata": {
    "scrolled": true
   },
   "outputs": [
    {
     "data": {
      "text/html": [
       "<div>\n",
       "<style scoped>\n",
       "    .dataframe tbody tr th:only-of-type {\n",
       "        vertical-align: middle;\n",
       "    }\n",
       "\n",
       "    .dataframe tbody tr th {\n",
       "        vertical-align: top;\n",
       "    }\n",
       "\n",
       "    .dataframe thead th {\n",
       "        text-align: right;\n",
       "    }\n",
       "</style>\n",
       "<table border=\"1\" class=\"dataframe\">\n",
       "  <thead>\n",
       "    <tr style=\"text-align: right;\">\n",
       "      <th></th>\n",
       "      <th>법정동구</th>\n",
       "      <th>용도지역명1</th>\n",
       "      <th>토지면적</th>\n",
       "    </tr>\n",
       "  </thead>\n",
       "  <tbody>\n",
       "    <tr>\n",
       "      <td>0</td>\n",
       "      <td>서울특별시 강남구</td>\n",
       "      <td>생산녹지지역</td>\n",
       "      <td>236212.0</td>\n",
       "    </tr>\n",
       "    <tr>\n",
       "      <td>1</td>\n",
       "      <td>서울특별시 강남구</td>\n",
       "      <td>일반상업지역</td>\n",
       "      <td>2565674.3</td>\n",
       "    </tr>\n",
       "    <tr>\n",
       "      <td>2</td>\n",
       "      <td>서울특별시 강남구</td>\n",
       "      <td>자연녹지지역</td>\n",
       "      <td>5265004.9</td>\n",
       "    </tr>\n",
       "    <tr>\n",
       "      <td>3</td>\n",
       "      <td>서울특별시 강남구</td>\n",
       "      <td>제1종일반주거지역</td>\n",
       "      <td>3417645.1</td>\n",
       "    </tr>\n",
       "    <tr>\n",
       "      <td>4</td>\n",
       "      <td>서울특별시 강남구</td>\n",
       "      <td>제1종전용주거지역</td>\n",
       "      <td>564831.7</td>\n",
       "    </tr>\n",
       "    <tr>\n",
       "      <td>5</td>\n",
       "      <td>서울특별시 강남구</td>\n",
       "      <td>제2종일반주거지역</td>\n",
       "      <td>9023892.1</td>\n",
       "    </tr>\n",
       "    <tr>\n",
       "      <td>6</td>\n",
       "      <td>서울특별시 강남구</td>\n",
       "      <td>제3종일반주거지역</td>\n",
       "      <td>11165368.4</td>\n",
       "    </tr>\n",
       "    <tr>\n",
       "      <td>7</td>\n",
       "      <td>서울특별시 강남구</td>\n",
       "      <td>준주거지역</td>\n",
       "      <td>288040.4</td>\n",
       "    </tr>\n",
       "    <tr>\n",
       "      <td>8</td>\n",
       "      <td>서울특별시 강동구</td>\n",
       "      <td>근린상업지역</td>\n",
       "      <td>89381.8</td>\n",
       "    </tr>\n",
       "    <tr>\n",
       "      <td>9</td>\n",
       "      <td>서울특별시 강동구</td>\n",
       "      <td>일반상업지역</td>\n",
       "      <td>675907.3</td>\n",
       "    </tr>\n",
       "  </tbody>\n",
       "</table>\n",
       "</div>"
      ],
      "text/plain": [
       "        법정동구     용도지역명1        토지면적\n",
       "0  서울특별시 강남구     생산녹지지역    236212.0\n",
       "1  서울특별시 강남구     일반상업지역   2565674.3\n",
       "2  서울특별시 강남구     자연녹지지역   5265004.9\n",
       "3  서울특별시 강남구  제1종일반주거지역   3417645.1\n",
       "4  서울특별시 강남구  제1종전용주거지역    564831.7\n",
       "5  서울특별시 강남구  제2종일반주거지역   9023892.1\n",
       "6  서울특별시 강남구  제3종일반주거지역  11165368.4\n",
       "7  서울특별시 강남구      준주거지역    288040.4\n",
       "8  서울특별시 강동구     근린상업지역     89381.8\n",
       "9  서울특별시 강동구     일반상업지역    675907.3"
      ]
     },
     "execution_count": 24,
     "metadata": {},
     "output_type": "execute_result"
    }
   ],
   "source": [
    "a2 = pd.DataFrame(ndf[ndf['용도지역명1'] != '개발제한구역'].groupby(['법정동구', '용도지역명1'])['토지면적'].sum()).reset_index()\n",
    "a2.head(n=10)"
   ]
  },
  {
   "cell_type": "code",
   "execution_count": 25,
   "metadata": {
    "scrolled": true
   },
   "outputs": [],
   "source": [
    "a2_ =  pd.DataFrame(ndf[ndf['용도지역명1'] != '개발제한구역'].groupby(['법정동구'])['토지면적'].sum()).reset_index()\n",
    "a2_.rename(columns = {'토지면적' : '전체토지면적'}, inplace = True)"
   ]
  },
  {
   "cell_type": "code",
   "execution_count": 26,
   "metadata": {
    "scrolled": true
   },
   "outputs": [
    {
     "data": {
      "text/html": [
       "<div>\n",
       "<style scoped>\n",
       "    .dataframe tbody tr th:only-of-type {\n",
       "        vertical-align: middle;\n",
       "    }\n",
       "\n",
       "    .dataframe tbody tr th {\n",
       "        vertical-align: top;\n",
       "    }\n",
       "\n",
       "    .dataframe thead th {\n",
       "        text-align: right;\n",
       "    }\n",
       "</style>\n",
       "<table border=\"1\" class=\"dataframe\">\n",
       "  <thead>\n",
       "    <tr style=\"text-align: right;\">\n",
       "      <th></th>\n",
       "      <th>법정동구</th>\n",
       "      <th>전체토지면적</th>\n",
       "    </tr>\n",
       "  </thead>\n",
       "  <tbody>\n",
       "    <tr>\n",
       "      <td>0</td>\n",
       "      <td>서울특별시 강남구</td>\n",
       "      <td>32526668.9</td>\n",
       "    </tr>\n",
       "    <tr>\n",
       "      <td>1</td>\n",
       "      <td>서울특별시 강동구</td>\n",
       "      <td>18867441.8</td>\n",
       "    </tr>\n",
       "    <tr>\n",
       "      <td>2</td>\n",
       "      <td>서울특별시 강북구</td>\n",
       "      <td>11826227.8</td>\n",
       "    </tr>\n",
       "    <tr>\n",
       "      <td>3</td>\n",
       "      <td>서울특별시 강서구</td>\n",
       "      <td>29031995.2</td>\n",
       "    </tr>\n",
       "    <tr>\n",
       "      <td>4</td>\n",
       "      <td>서울특별시 관악구</td>\n",
       "      <td>21891931.8</td>\n",
       "    </tr>\n",
       "  </tbody>\n",
       "</table>\n",
       "</div>"
      ],
      "text/plain": [
       "        법정동구      전체토지면적\n",
       "0  서울특별시 강남구  32526668.9\n",
       "1  서울특별시 강동구  18867441.8\n",
       "2  서울특별시 강북구  11826227.8\n",
       "3  서울특별시 강서구  29031995.2\n",
       "4  서울특별시 관악구  21891931.8"
      ]
     },
     "execution_count": 26,
     "metadata": {},
     "output_type": "execute_result"
    }
   ],
   "source": [
    "a2_.head()"
   ]
  },
  {
   "cell_type": "code",
   "execution_count": 27,
   "metadata": {},
   "outputs": [],
   "source": [
    "a2_1 = pd.merge(a2, a2_, how = 'left' )\n",
    "a2_1['yongdo_percent'] = round(a2_1['토지면적'] / a2_1['전체토지면적'], 3)"
   ]
  },
  {
   "cell_type": "code",
   "execution_count": 28,
   "metadata": {},
   "outputs": [
    {
     "data": {
      "text/html": [
       "<div>\n",
       "<style scoped>\n",
       "    .dataframe tbody tr th:only-of-type {\n",
       "        vertical-align: middle;\n",
       "    }\n",
       "\n",
       "    .dataframe tbody tr th {\n",
       "        vertical-align: top;\n",
       "    }\n",
       "\n",
       "    .dataframe thead th {\n",
       "        text-align: right;\n",
       "    }\n",
       "</style>\n",
       "<table border=\"1\" class=\"dataframe\">\n",
       "  <thead>\n",
       "    <tr style=\"text-align: right;\">\n",
       "      <th></th>\n",
       "      <th>법정동구</th>\n",
       "      <th>용도지역명1</th>\n",
       "      <th>토지면적</th>\n",
       "      <th>전체토지면적</th>\n",
       "      <th>yongdo_percent</th>\n",
       "    </tr>\n",
       "  </thead>\n",
       "  <tbody>\n",
       "    <tr>\n",
       "      <td>177</td>\n",
       "      <td>서울특별시 종로구</td>\n",
       "      <td>일반상업지역</td>\n",
       "      <td>2938625.4</td>\n",
       "      <td>15182321.7</td>\n",
       "      <td>0.194</td>\n",
       "    </tr>\n",
       "    <tr>\n",
       "      <td>178</td>\n",
       "      <td>서울특별시 종로구</td>\n",
       "      <td>자연녹지지역</td>\n",
       "      <td>2297845.3</td>\n",
       "      <td>15182321.7</td>\n",
       "      <td>0.151</td>\n",
       "    </tr>\n",
       "    <tr>\n",
       "      <td>179</td>\n",
       "      <td>서울특별시 종로구</td>\n",
       "      <td>제1종일반주거지역</td>\n",
       "      <td>4385161.1</td>\n",
       "      <td>15182321.7</td>\n",
       "      <td>0.289</td>\n",
       "    </tr>\n",
       "    <tr>\n",
       "      <td>180</td>\n",
       "      <td>서울특별시 종로구</td>\n",
       "      <td>제1종전용주거지역</td>\n",
       "      <td>1581767.0</td>\n",
       "      <td>15182321.7</td>\n",
       "      <td>0.104</td>\n",
       "    </tr>\n",
       "    <tr>\n",
       "      <td>181</td>\n",
       "      <td>서울특별시 종로구</td>\n",
       "      <td>제2종일반주거지역</td>\n",
       "      <td>2918539.3</td>\n",
       "      <td>15182321.7</td>\n",
       "      <td>0.192</td>\n",
       "    </tr>\n",
       "    <tr>\n",
       "      <td>182</td>\n",
       "      <td>서울특별시 종로구</td>\n",
       "      <td>제3종일반주거지역</td>\n",
       "      <td>852888.7</td>\n",
       "      <td>15182321.7</td>\n",
       "      <td>0.056</td>\n",
       "    </tr>\n",
       "    <tr>\n",
       "      <td>183</td>\n",
       "      <td>서울특별시 종로구</td>\n",
       "      <td>준주거지역</td>\n",
       "      <td>207494.9</td>\n",
       "      <td>15182321.7</td>\n",
       "      <td>0.014</td>\n",
       "    </tr>\n",
       "  </tbody>\n",
       "</table>\n",
       "</div>"
      ],
      "text/plain": [
       "          법정동구     용도지역명1       토지면적      전체토지면적  yongdo_percent\n",
       "177  서울특별시 종로구     일반상업지역  2938625.4  15182321.7           0.194\n",
       "178  서울특별시 종로구     자연녹지지역  2297845.3  15182321.7           0.151\n",
       "179  서울특별시 종로구  제1종일반주거지역  4385161.1  15182321.7           0.289\n",
       "180  서울특별시 종로구  제1종전용주거지역  1581767.0  15182321.7           0.104\n",
       "181  서울특별시 종로구  제2종일반주거지역  2918539.3  15182321.7           0.192\n",
       "182  서울특별시 종로구  제3종일반주거지역   852888.7  15182321.7           0.056\n",
       "183  서울특별시 종로구      준주거지역   207494.9  15182321.7           0.014"
      ]
     },
     "execution_count": 28,
     "metadata": {},
     "output_type": "execute_result"
    }
   ],
   "source": [
    "a2_1[a2_1['법정동구'].str.contains('종로구')]"
   ]
  },
  {
   "cell_type": "code",
   "execution_count": 29,
   "metadata": {},
   "outputs": [
    {
     "data": {
      "text/html": [
       "<div>\n",
       "<style scoped>\n",
       "    .dataframe tbody tr th:only-of-type {\n",
       "        vertical-align: middle;\n",
       "    }\n",
       "\n",
       "    .dataframe tbody tr th {\n",
       "        vertical-align: top;\n",
       "    }\n",
       "\n",
       "    .dataframe thead th {\n",
       "        text-align: right;\n",
       "    }\n",
       "</style>\n",
       "<table border=\"1\" class=\"dataframe\">\n",
       "  <thead>\n",
       "    <tr style=\"text-align: right;\">\n",
       "      <th></th>\n",
       "      <th>법정동구</th>\n",
       "      <th>용도지역명1</th>\n",
       "      <th>토지면적</th>\n",
       "      <th>전체토지면적</th>\n",
       "      <th>yongdo_percent</th>\n",
       "    </tr>\n",
       "  </thead>\n",
       "  <tbody>\n",
       "    <tr>\n",
       "      <td>94</td>\n",
       "      <td>서울특별시 마포구</td>\n",
       "      <td>근린상업지역</td>\n",
       "      <td>87846.3</td>\n",
       "      <td>23659827.4</td>\n",
       "      <td>0.004</td>\n",
       "    </tr>\n",
       "    <tr>\n",
       "      <td>95</td>\n",
       "      <td>서울특별시 마포구</td>\n",
       "      <td>유통상업지역</td>\n",
       "      <td>53353.8</td>\n",
       "      <td>23659827.4</td>\n",
       "      <td>0.002</td>\n",
       "    </tr>\n",
       "    <tr>\n",
       "      <td>96</td>\n",
       "      <td>서울특별시 마포구</td>\n",
       "      <td>일반상업지역</td>\n",
       "      <td>874896.9</td>\n",
       "      <td>23659827.4</td>\n",
       "      <td>0.037</td>\n",
       "    </tr>\n",
       "    <tr>\n",
       "      <td>97</td>\n",
       "      <td>서울특별시 마포구</td>\n",
       "      <td>자연녹지지역</td>\n",
       "      <td>9182904.3</td>\n",
       "      <td>23659827.4</td>\n",
       "      <td>0.388</td>\n",
       "    </tr>\n",
       "    <tr>\n",
       "      <td>98</td>\n",
       "      <td>서울특별시 마포구</td>\n",
       "      <td>제1종일반주거지역</td>\n",
       "      <td>577241.0</td>\n",
       "      <td>23659827.4</td>\n",
       "      <td>0.024</td>\n",
       "    </tr>\n",
       "    <tr>\n",
       "      <td>99</td>\n",
       "      <td>서울특별시 마포구</td>\n",
       "      <td>제2종일반주거지역</td>\n",
       "      <td>8335079.1</td>\n",
       "      <td>23659827.4</td>\n",
       "      <td>0.352</td>\n",
       "    </tr>\n",
       "    <tr>\n",
       "      <td>100</td>\n",
       "      <td>서울특별시 마포구</td>\n",
       "      <td>제3종일반주거지역</td>\n",
       "      <td>3660023.2</td>\n",
       "      <td>23659827.4</td>\n",
       "      <td>0.155</td>\n",
       "    </tr>\n",
       "    <tr>\n",
       "      <td>101</td>\n",
       "      <td>서울특별시 마포구</td>\n",
       "      <td>준주거지역</td>\n",
       "      <td>888482.8</td>\n",
       "      <td>23659827.4</td>\n",
       "      <td>0.038</td>\n",
       "    </tr>\n",
       "  </tbody>\n",
       "</table>\n",
       "</div>"
      ],
      "text/plain": [
       "          법정동구     용도지역명1       토지면적      전체토지면적  yongdo_percent\n",
       "94   서울특별시 마포구     근린상업지역    87846.3  23659827.4           0.004\n",
       "95   서울특별시 마포구     유통상업지역    53353.8  23659827.4           0.002\n",
       "96   서울특별시 마포구     일반상업지역   874896.9  23659827.4           0.037\n",
       "97   서울특별시 마포구     자연녹지지역  9182904.3  23659827.4           0.388\n",
       "98   서울특별시 마포구  제1종일반주거지역   577241.0  23659827.4           0.024\n",
       "99   서울특별시 마포구  제2종일반주거지역  8335079.1  23659827.4           0.352\n",
       "100  서울특별시 마포구  제3종일반주거지역  3660023.2  23659827.4           0.155\n",
       "101  서울특별시 마포구      준주거지역   888482.8  23659827.4           0.038"
      ]
     },
     "execution_count": 29,
     "metadata": {},
     "output_type": "execute_result"
    }
   ],
   "source": [
    "a2_1[a2_1['법정동구'].str.contains('마포구')]"
   ]
  },
  {
   "cell_type": "code",
   "execution_count": 140,
   "metadata": {},
   "outputs": [
    {
     "data": {
      "text/html": [
       "<div>\n",
       "<style scoped>\n",
       "    .dataframe tbody tr th:only-of-type {\n",
       "        vertical-align: middle;\n",
       "    }\n",
       "\n",
       "    .dataframe tbody tr th {\n",
       "        vertical-align: top;\n",
       "    }\n",
       "\n",
       "    .dataframe thead th {\n",
       "        text-align: right;\n",
       "    }\n",
       "</style>\n",
       "<table border=\"1\" class=\"dataframe\">\n",
       "  <thead>\n",
       "    <tr style=\"text-align: right;\">\n",
       "      <th></th>\n",
       "      <th>법정동구</th>\n",
       "      <th>용도지역명1</th>\n",
       "      <th>토지면적</th>\n",
       "      <th>전체토지면적</th>\n",
       "      <th>yongdo_percent</th>\n",
       "    </tr>\n",
       "  </thead>\n",
       "  <tbody>\n",
       "    <tr>\n",
       "      <td>102</td>\n",
       "      <td>서울특별시 서대문구</td>\n",
       "      <td>근린상업지역</td>\n",
       "      <td>4362.1</td>\n",
       "      <td>16848693.0</td>\n",
       "      <td>0.000</td>\n",
       "    </tr>\n",
       "    <tr>\n",
       "      <td>103</td>\n",
       "      <td>서울특별시 서대문구</td>\n",
       "      <td>일반상업지역</td>\n",
       "      <td>275396.0</td>\n",
       "      <td>16848693.0</td>\n",
       "      <td>0.016</td>\n",
       "    </tr>\n",
       "    <tr>\n",
       "      <td>104</td>\n",
       "      <td>서울특별시 서대문구</td>\n",
       "      <td>자연녹지지역</td>\n",
       "      <td>268897.5</td>\n",
       "      <td>16848693.0</td>\n",
       "      <td>0.016</td>\n",
       "    </tr>\n",
       "    <tr>\n",
       "      <td>105</td>\n",
       "      <td>서울특별시 서대문구</td>\n",
       "      <td>제1종일반주거지역</td>\n",
       "      <td>6982106.1</td>\n",
       "      <td>16848693.0</td>\n",
       "      <td>0.414</td>\n",
       "    </tr>\n",
       "    <tr>\n",
       "      <td>106</td>\n",
       "      <td>서울특별시 서대문구</td>\n",
       "      <td>제1종전용주거지역</td>\n",
       "      <td>340960.4</td>\n",
       "      <td>16848693.0</td>\n",
       "      <td>0.020</td>\n",
       "    </tr>\n",
       "    <tr>\n",
       "      <td>107</td>\n",
       "      <td>서울특별시 서대문구</td>\n",
       "      <td>제2종일반주거지역</td>\n",
       "      <td>5493759.5</td>\n",
       "      <td>16848693.0</td>\n",
       "      <td>0.326</td>\n",
       "    </tr>\n",
       "    <tr>\n",
       "      <td>108</td>\n",
       "      <td>서울특별시 서대문구</td>\n",
       "      <td>제3종일반주거지역</td>\n",
       "      <td>3168727.3</td>\n",
       "      <td>16848693.0</td>\n",
       "      <td>0.188</td>\n",
       "    </tr>\n",
       "    <tr>\n",
       "      <td>109</td>\n",
       "      <td>서울특별시 서대문구</td>\n",
       "      <td>준주거지역</td>\n",
       "      <td>314484.1</td>\n",
       "      <td>16848693.0</td>\n",
       "      <td>0.019</td>\n",
       "    </tr>\n",
       "  </tbody>\n",
       "</table>\n",
       "</div>"
      ],
      "text/plain": [
       "           법정동구     용도지역명1       토지면적      전체토지면적  yongdo_percent\n",
       "102  서울특별시 서대문구     근린상업지역     4362.1  16848693.0           0.000\n",
       "103  서울특별시 서대문구     일반상업지역   275396.0  16848693.0           0.016\n",
       "104  서울특별시 서대문구     자연녹지지역   268897.5  16848693.0           0.016\n",
       "105  서울특별시 서대문구  제1종일반주거지역  6982106.1  16848693.0           0.414\n",
       "106  서울특별시 서대문구  제1종전용주거지역   340960.4  16848693.0           0.020\n",
       "107  서울특별시 서대문구  제2종일반주거지역  5493759.5  16848693.0           0.326\n",
       "108  서울특별시 서대문구  제3종일반주거지역  3168727.3  16848693.0           0.188\n",
       "109  서울특별시 서대문구      준주거지역   314484.1  16848693.0           0.019"
      ]
     },
     "execution_count": 140,
     "metadata": {},
     "output_type": "execute_result"
    }
   ],
   "source": [
    "a2_1[a2_1['법정동구'].str.contains('서대문구')]"
   ]
  },
  {
   "cell_type": "markdown",
   "metadata": {},
   "source": [
    "4. 용도지역명 percentage : HEIGHT"
   ]
  },
  {
   "cell_type": "code",
   "execution_count": 31,
   "metadata": {},
   "outputs": [],
   "source": [
    "YDJM = a2_1"
   ]
  },
  {
   "cell_type": "code",
   "execution_count": 32,
   "metadata": {},
   "outputs": [],
   "source": [
    "ndf2 = ndf[ndf['용도지역명1'] != '개발제한구역']"
   ]
  },
  {
   "cell_type": "code",
   "execution_count": 33,
   "metadata": {},
   "outputs": [],
   "source": [
    "## 지형높이\n",
    "H1 = pd.DataFrame(ndf2.groupby(['법정동구', '지형높이'])['토지면적'].sum()).reset_index()"
   ]
  },
  {
   "cell_type": "code",
   "execution_count": 34,
   "metadata": {},
   "outputs": [],
   "source": [
    "Merged = pd.merge(H1, a2_, how = 'left')\n",
    "Merged['height_percent']  = round(Merged['토지면적'] / Merged['전체토지면적'] , 3)"
   ]
  },
  {
   "cell_type": "code",
   "execution_count": 35,
   "metadata": {},
   "outputs": [],
   "source": [
    "HEIGHT = Merged"
   ]
  },
  {
   "cell_type": "markdown",
   "metadata": {},
   "source": [
    "* 개별 테이블 취합"
   ]
  },
  {
   "cell_type": "code",
   "execution_count": 36,
   "metadata": {},
   "outputs": [],
   "source": [
    "summary = [JMM, a2_, YDJM, HEIGHT]"
   ]
  },
  {
   "cell_type": "markdown",
   "metadata": {},
   "source": [
    "5. 가격 : 주거용, 상업용, 주상복합용 세 가지 공시지가만 정보로 포함\n",
    "* 실거래가 = 공시지가 * 3.8    \n",
    "https://blog.naver.com/PostView.nhn?blogId=dasolne&logNo=221373938585"
   ]
  },
  {
   "cell_type": "code",
   "execution_count": 38,
   "metadata": {},
   "outputs": [],
   "source": [
    "for_price = ndf2[(ndf2['토지이용summary'] == '주거용') | (ndf2['토지이용summary'] == '상업용') | (ndf2['토지이용summary'] == '주상복합용')]\n",
    "Price = pd.DataFrame(for_price.groupby(['법정동구', '토지이용summary'])['공시지가'].sum()).reset_index()"
   ]
  },
  {
   "cell_type": "code",
   "execution_count": 39,
   "metadata": {},
   "outputs": [
    {
     "data": {
      "text/html": [
       "<div>\n",
       "<style scoped>\n",
       "    .dataframe tbody tr th:only-of-type {\n",
       "        vertical-align: middle;\n",
       "    }\n",
       "\n",
       "    .dataframe tbody tr th {\n",
       "        vertical-align: top;\n",
       "    }\n",
       "\n",
       "    .dataframe thead th {\n",
       "        text-align: right;\n",
       "    }\n",
       "</style>\n",
       "<table border=\"1\" class=\"dataframe\">\n",
       "  <thead>\n",
       "    <tr style=\"text-align: right;\">\n",
       "      <th></th>\n",
       "      <th>법정동구</th>\n",
       "      <th>토지이용summary</th>\n",
       "      <th>공시지가</th>\n",
       "    </tr>\n",
       "  </thead>\n",
       "  <tbody>\n",
       "    <tr>\n",
       "      <td>0</td>\n",
       "      <td>서울특별시 강남구</td>\n",
       "      <td>상업용</td>\n",
       "      <td>184887611000</td>\n",
       "    </tr>\n",
       "    <tr>\n",
       "      <td>1</td>\n",
       "      <td>서울특별시 강남구</td>\n",
       "      <td>주거용</td>\n",
       "      <td>71690147000</td>\n",
       "    </tr>\n",
       "    <tr>\n",
       "      <td>2</td>\n",
       "      <td>서울특별시 강남구</td>\n",
       "      <td>주상복합용</td>\n",
       "      <td>21043941000</td>\n",
       "    </tr>\n",
       "    <tr>\n",
       "      <td>3</td>\n",
       "      <td>서울특별시 강동구</td>\n",
       "      <td>상업용</td>\n",
       "      <td>21786622000</td>\n",
       "    </tr>\n",
       "    <tr>\n",
       "      <td>4</td>\n",
       "      <td>서울특별시 강동구</td>\n",
       "      <td>주거용</td>\n",
       "      <td>48269211000</td>\n",
       "    </tr>\n",
       "    <tr>\n",
       "      <td>...</td>\n",
       "      <td>...</td>\n",
       "      <td>...</td>\n",
       "      <td>...</td>\n",
       "    </tr>\n",
       "    <tr>\n",
       "      <td>70</td>\n",
       "      <td>서울특별시 중구</td>\n",
       "      <td>주거용</td>\n",
       "      <td>32783311000</td>\n",
       "    </tr>\n",
       "    <tr>\n",
       "      <td>71</td>\n",
       "      <td>서울특별시 중구</td>\n",
       "      <td>주상복합용</td>\n",
       "      <td>10989922000</td>\n",
       "    </tr>\n",
       "    <tr>\n",
       "      <td>72</td>\n",
       "      <td>서울특별시 중랑구</td>\n",
       "      <td>상업용</td>\n",
       "      <td>16236365000</td>\n",
       "    </tr>\n",
       "    <tr>\n",
       "      <td>73</td>\n",
       "      <td>서울특별시 중랑구</td>\n",
       "      <td>주거용</td>\n",
       "      <td>58548872800</td>\n",
       "    </tr>\n",
       "    <tr>\n",
       "      <td>74</td>\n",
       "      <td>서울특별시 중랑구</td>\n",
       "      <td>주상복합용</td>\n",
       "      <td>15874891000</td>\n",
       "    </tr>\n",
       "  </tbody>\n",
       "</table>\n",
       "<p>75 rows × 3 columns</p>\n",
       "</div>"
      ],
      "text/plain": [
       "         법정동구 토지이용summary          공시지가\n",
       "0   서울특별시 강남구         상업용  184887611000\n",
       "1   서울특별시 강남구         주거용   71690147000\n",
       "2   서울특별시 강남구       주상복합용   21043941000\n",
       "3   서울특별시 강동구         상업용   21786622000\n",
       "4   서울특별시 강동구         주거용   48269211000\n",
       "..        ...         ...           ...\n",
       "70   서울특별시 중구         주거용   32783311000\n",
       "71   서울특별시 중구       주상복합용   10989922000\n",
       "72  서울특별시 중랑구         상업용   16236365000\n",
       "73  서울특별시 중랑구         주거용   58548872800\n",
       "74  서울특별시 중랑구       주상복합용   15874891000\n",
       "\n",
       "[75 rows x 3 columns]"
      ]
     },
     "execution_count": 39,
     "metadata": {},
     "output_type": "execute_result"
    }
   ],
   "source": [
    "Price"
   ]
  },
  {
   "cell_type": "code",
   "execution_count": 40,
   "metadata": {},
   "outputs": [],
   "source": [
    "summary.append(Price)"
   ]
  },
  {
   "cell_type": "markdown",
   "metadata": {},
   "source": [
    "## 1차 테이블 디자인\n",
    "* shape : (25, n)\n",
    "* summary[1] 기준 병합\n",
    "* KEY = '법정동구'\n",
    "* Pivot\n",
    "    * summary[0] : (지목명, 토지면적)\n",
    "    * summary[2] : (용도지역명1, yongdo_percent) 토지 면적 비율 대신 면적 자체 값을 사용하였음. 집계구 내부에서의 비교가 아닌, 집계구간 비교가 더욱 중요한 상황이므로 / 또 \n",
    "    * summary[3] : (지형높이, 토지면적, height_percent)\n",
    "    * summary[4] : (토지이용summary, 공시지가) : 주거용, 상업용, 주상복합용 공시지가 금액\n",
    "* 취합된 dataframe name = topo"
   ]
  },
  {
   "cell_type": "markdown",
   "metadata": {},
   "source": [
    "##### summary[0]"
   ]
  },
  {
   "cell_type": "code",
   "execution_count": 72,
   "metadata": {},
   "outputs": [
    {
     "name": "stderr",
     "output_type": "stream",
     "text": [
      "/Users/yeonjin/opt/anaconda3/lib/python3.7/site-packages/ipykernel_launcher.py:1: SettingWithCopyWarning: \n",
      "A value is trying to be set on a copy of a slice from a DataFrame.\n",
      "Try using .loc[row_indexer,col_indexer] = value instead\n",
      "\n",
      "See the caveats in the documentation: http://pandas.pydata.org/pandas-docs/stable/user_guide/indexing.html#returning-a-view-versus-a-copy\n",
      "  \"\"\"Entry point for launching an IPython kernel.\n"
     ]
    }
   ],
   "source": [
    "summary[0]['attach'] = '토지면적'"
   ]
  },
  {
   "cell_type": "code",
   "execution_count": 80,
   "metadata": {},
   "outputs": [
    {
     "name": "stderr",
     "output_type": "stream",
     "text": [
      "/Users/yeonjin/opt/anaconda3/lib/python3.7/site-packages/ipykernel_launcher.py:1: SettingWithCopyWarning: \n",
      "A value is trying to be set on a copy of a slice from a DataFrame.\n",
      "Try using .loc[row_indexer,col_indexer] = value instead\n",
      "\n",
      "See the caveats in the documentation: http://pandas.pydata.org/pandas-docs/stable/user_guide/indexing.html#returning-a-view-versus-a-copy\n",
      "  \"\"\"Entry point for launching an IPython kernel.\n"
     ]
    }
   ],
   "source": [
    "summary[0]['지목명'] = summary[0]['지목명'] + '_토지면적'"
   ]
  },
  {
   "cell_type": "code",
   "execution_count": 85,
   "metadata": {},
   "outputs": [
    {
     "data": {
      "text/html": [
       "<div>\n",
       "<style scoped>\n",
       "    .dataframe tbody tr th:only-of-type {\n",
       "        vertical-align: middle;\n",
       "    }\n",
       "\n",
       "    .dataframe tbody tr th {\n",
       "        vertical-align: top;\n",
       "    }\n",
       "\n",
       "    .dataframe thead th {\n",
       "        text-align: right;\n",
       "    }\n",
       "</style>\n",
       "<table border=\"1\" class=\"dataframe\">\n",
       "  <thead>\n",
       "    <tr style=\"text-align: right;\">\n",
       "      <th></th>\n",
       "      <th>법정동구</th>\n",
       "      <th>지목명</th>\n",
       "      <th>토지면적</th>\n",
       "    </tr>\n",
       "  </thead>\n",
       "  <tbody>\n",
       "    <tr>\n",
       "      <td>0</td>\n",
       "      <td>서울특별시 강남구</td>\n",
       "      <td>공원_토지면적</td>\n",
       "      <td>1725299.7</td>\n",
       "    </tr>\n",
       "    <tr>\n",
       "      <td>5</td>\n",
       "      <td>서울특별시 강남구</td>\n",
       "      <td>도로_토지면적</td>\n",
       "      <td>5913425.2</td>\n",
       "    </tr>\n",
       "    <tr>\n",
       "      <td>14</td>\n",
       "      <td>서울특별시 강남구</td>\n",
       "      <td>주차장_토지면적</td>\n",
       "      <td>64679.6</td>\n",
       "    </tr>\n",
       "    <tr>\n",
       "      <td>17</td>\n",
       "      <td>서울특별시 강남구</td>\n",
       "      <td>체육용지_토지면적</td>\n",
       "      <td>6908.1</td>\n",
       "    </tr>\n",
       "    <tr>\n",
       "      <td>19</td>\n",
       "      <td>서울특별시 강남구</td>\n",
       "      <td>학교용지_토지면적</td>\n",
       "      <td>1514434.1</td>\n",
       "    </tr>\n",
       "    <tr>\n",
       "      <td>...</td>\n",
       "      <td>...</td>\n",
       "      <td>...</td>\n",
       "      <td>...</td>\n",
       "    </tr>\n",
       "    <tr>\n",
       "      <td>475</td>\n",
       "      <td>서울특별시 중구</td>\n",
       "      <td>학교용지_토지면적</td>\n",
       "      <td>397424.8</td>\n",
       "    </tr>\n",
       "    <tr>\n",
       "      <td>476</td>\n",
       "      <td>서울특별시 중랑구</td>\n",
       "      <td>공원_토지면적</td>\n",
       "      <td>965258.6</td>\n",
       "    </tr>\n",
       "    <tr>\n",
       "      <td>482</td>\n",
       "      <td>서울특별시 중랑구</td>\n",
       "      <td>도로_토지면적</td>\n",
       "      <td>2683844.0</td>\n",
       "    </tr>\n",
       "    <tr>\n",
       "      <td>492</td>\n",
       "      <td>서울특별시 중랑구</td>\n",
       "      <td>주차장_토지면적</td>\n",
       "      <td>44150.3</td>\n",
       "    </tr>\n",
       "    <tr>\n",
       "      <td>496</td>\n",
       "      <td>서울특별시 중랑구</td>\n",
       "      <td>학교용지_토지면적</td>\n",
       "      <td>682905.5</td>\n",
       "    </tr>\n",
       "  </tbody>\n",
       "</table>\n",
       "<p>117 rows × 3 columns</p>\n",
       "</div>"
      ],
      "text/plain": [
       "          법정동구        지목명       토지면적\n",
       "0    서울특별시 강남구    공원_토지면적  1725299.7\n",
       "5    서울특별시 강남구    도로_토지면적  5913425.2\n",
       "14   서울특별시 강남구   주차장_토지면적    64679.6\n",
       "17   서울특별시 강남구  체육용지_토지면적     6908.1\n",
       "19   서울특별시 강남구  학교용지_토지면적  1514434.1\n",
       "..         ...        ...        ...\n",
       "475   서울특별시 중구  학교용지_토지면적   397424.8\n",
       "476  서울특별시 중랑구    공원_토지면적   965258.6\n",
       "482  서울특별시 중랑구    도로_토지면적  2683844.0\n",
       "492  서울특별시 중랑구   주차장_토지면적    44150.3\n",
       "496  서울특별시 중랑구  학교용지_토지면적   682905.5\n",
       "\n",
       "[117 rows x 3 columns]"
      ]
     },
     "execution_count": 85,
     "metadata": {},
     "output_type": "execute_result"
    }
   ],
   "source": [
    "#summary[0].drop(['attach', '지목명_a'], axis = 1, inplace = True)\n",
    "summary[0]"
   ]
  },
  {
   "cell_type": "code",
   "execution_count": 91,
   "metadata": {},
   "outputs": [],
   "source": [
    "s_2 = pd.DataFrame(summary[0].pivot('법정동구','지목명','토지면적').reset_index())\n",
    "s_2 = s_2.fillna(0)"
   ]
  },
  {
   "cell_type": "code",
   "execution_count": 94,
   "metadata": {},
   "outputs": [],
   "source": [
    "topo = pd.merge(summary[1], s_2)"
   ]
  },
  {
   "cell_type": "code",
   "execution_count": 97,
   "metadata": {
    "scrolled": true
   },
   "outputs": [
    {
     "data": {
      "text/html": [
       "<div>\n",
       "<style scoped>\n",
       "    .dataframe tbody tr th:only-of-type {\n",
       "        vertical-align: middle;\n",
       "    }\n",
       "\n",
       "    .dataframe tbody tr th {\n",
       "        vertical-align: top;\n",
       "    }\n",
       "\n",
       "    .dataframe thead th {\n",
       "        text-align: right;\n",
       "    }\n",
       "</style>\n",
       "<table border=\"1\" class=\"dataframe\">\n",
       "  <thead>\n",
       "    <tr style=\"text-align: right;\">\n",
       "      <th></th>\n",
       "      <th>법정동구</th>\n",
       "      <th>전체토지면적</th>\n",
       "      <th>공원_토지면적</th>\n",
       "      <th>도로_토지면적</th>\n",
       "      <th>주차장_토지면적</th>\n",
       "      <th>체육용지_토지면적</th>\n",
       "      <th>학교용지_토지면적</th>\n",
       "    </tr>\n",
       "  </thead>\n",
       "  <tbody>\n",
       "    <tr>\n",
       "      <td>0</td>\n",
       "      <td>서울특별시 강남구</td>\n",
       "      <td>32526668.9</td>\n",
       "      <td>1725299.7</td>\n",
       "      <td>5913425.2</td>\n",
       "      <td>64679.6</td>\n",
       "      <td>6908.1</td>\n",
       "      <td>1514434.1</td>\n",
       "    </tr>\n",
       "    <tr>\n",
       "      <td>1</td>\n",
       "      <td>서울특별시 강동구</td>\n",
       "      <td>18867441.8</td>\n",
       "      <td>1214694.1</td>\n",
       "      <td>3110669.3</td>\n",
       "      <td>112586.2</td>\n",
       "      <td>0.0</td>\n",
       "      <td>813442.0</td>\n",
       "    </tr>\n",
       "    <tr>\n",
       "      <td>2</td>\n",
       "      <td>서울특별시 강북구</td>\n",
       "      <td>11826227.8</td>\n",
       "      <td>726748.8</td>\n",
       "      <td>1980021.6</td>\n",
       "      <td>25974.1</td>\n",
       "      <td>0.0</td>\n",
       "      <td>554917.2</td>\n",
       "    </tr>\n",
       "    <tr>\n",
       "      <td>3</td>\n",
       "      <td>서울특별시 강서구</td>\n",
       "      <td>29031995.2</td>\n",
       "      <td>1192830.3</td>\n",
       "      <td>4123851.3</td>\n",
       "      <td>38416.9</td>\n",
       "      <td>39315.7</td>\n",
       "      <td>862655.3</td>\n",
       "    </tr>\n",
       "    <tr>\n",
       "      <td>4</td>\n",
       "      <td>서울특별시 관악구</td>\n",
       "      <td>21891931.8</td>\n",
       "      <td>604465.4</td>\n",
       "      <td>2595406.0</td>\n",
       "      <td>17701.1</td>\n",
       "      <td>10486.3</td>\n",
       "      <td>937897.3</td>\n",
       "    </tr>\n",
       "  </tbody>\n",
       "</table>\n",
       "</div>"
      ],
      "text/plain": [
       "        법정동구      전체토지면적    공원_토지면적    도로_토지면적  주차장_토지면적  체육용지_토지면적  학교용지_토지면적\n",
       "0  서울특별시 강남구  32526668.9  1725299.7  5913425.2   64679.6     6908.1  1514434.1\n",
       "1  서울특별시 강동구  18867441.8  1214694.1  3110669.3  112586.2        0.0   813442.0\n",
       "2  서울특별시 강북구  11826227.8   726748.8  1980021.6   25974.1        0.0   554917.2\n",
       "3  서울특별시 강서구  29031995.2  1192830.3  4123851.3   38416.9    39315.7   862655.3\n",
       "4  서울특별시 관악구  21891931.8   604465.4  2595406.0   17701.1    10486.3   937897.3"
      ]
     },
     "execution_count": 97,
     "metadata": {},
     "output_type": "execute_result"
    }
   ],
   "source": [
    "topo.head()"
   ]
  },
  {
   "cell_type": "markdown",
   "metadata": {},
   "source": [
    "###### summary[2]"
   ]
  },
  {
   "cell_type": "code",
   "execution_count": 59,
   "metadata": {
    "scrolled": false
   },
   "outputs": [],
   "source": [
    "summary[2].rename({'용도지역명1':'용도지역명'}, axis = 1, inplace = True)"
   ]
  },
  {
   "cell_type": "code",
   "execution_count": 98,
   "metadata": {},
   "outputs": [
    {
     "data": {
      "text/plain": [
       "0         생산녹지지역\n",
       "1         일반상업지역\n",
       "2         자연녹지지역\n",
       "3      제1종일반주거지역\n",
       "4      제1종전용주거지역\n",
       "5      제2종일반주거지역\n",
       "6      제3종일반주거지역\n",
       "7          준주거지역\n",
       "8         근린상업지역\n",
       "24        유통상업지역\n",
       "31         준공업지역\n",
       "67     제2종전용주거지역\n",
       "160       보전녹지지역\n",
       "190       중심상업지역\n",
       "Name: 용도지역명, dtype: object"
      ]
     },
     "execution_count": 98,
     "metadata": {},
     "output_type": "execute_result"
    }
   ],
   "source": [
    "summary[2]['용도지역명'].drop_duplicates()"
   ]
  },
  {
   "cell_type": "code",
   "execution_count": 111,
   "metadata": {
    "scrolled": false
   },
   "outputs": [],
   "source": [
    "s_22 = summary[2].pivot('법정동구', '용도지역명', '토지면적').fillna(0)"
   ]
  },
  {
   "cell_type": "code",
   "execution_count": 112,
   "metadata": {
    "scrolled": true
   },
   "outputs": [],
   "source": [
    "#summary[2].pivot('법정동구', '용도지역명', 'yongdo_percent').fillna(0) "
   ]
  },
  {
   "cell_type": "code",
   "execution_count": 116,
   "metadata": {
    "scrolled": false
   },
   "outputs": [],
   "source": [
    "topo =pd.merge(topo, s_22.reset_index())"
   ]
  },
  {
   "cell_type": "markdown",
   "metadata": {},
   "source": [
    "###### summary[3]"
   ]
  },
  {
   "cell_type": "code",
   "execution_count": 121,
   "metadata": {},
   "outputs": [],
   "source": [
    "s3 = summary[3].pivot('법정동구', '지형높이', '토지면적').fillna(0)\n",
    "topo = pd.merge(topo, s3.reset_index())"
   ]
  },
  {
   "cell_type": "markdown",
   "metadata": {},
   "source": [
    "###### summary[4]"
   ]
  },
  {
   "cell_type": "code",
   "execution_count": 123,
   "metadata": {},
   "outputs": [],
   "source": [
    "summary[4]['토지이용summary'] = summary[4]['토지이용summary'] + '_공시지가'"
   ]
  },
  {
   "cell_type": "code",
   "execution_count": 126,
   "metadata": {},
   "outputs": [],
   "source": [
    "s4 = summary[4].pivot('법정동구', '토지이용summary','공시지가').fillna(0)\n",
    "topo =pd.merge(topo, s4.reset_index())"
   ]
  },
  {
   "cell_type": "markdown",
   "metadata": {},
   "source": [
    "## 갈무리된 topology data"
   ]
  },
  {
   "cell_type": "code",
   "execution_count": 133,
   "metadata": {},
   "outputs": [
    {
     "data": {
      "text/html": [
       "<div>\n",
       "<style scoped>\n",
       "    .dataframe tbody tr th:only-of-type {\n",
       "        vertical-align: middle;\n",
       "    }\n",
       "\n",
       "    .dataframe tbody tr th {\n",
       "        vertical-align: top;\n",
       "    }\n",
       "\n",
       "    .dataframe thead th {\n",
       "        text-align: right;\n",
       "    }\n",
       "</style>\n",
       "<table border=\"1\" class=\"dataframe\">\n",
       "  <thead>\n",
       "    <tr style=\"text-align: right;\">\n",
       "      <th></th>\n",
       "      <th>법정동구</th>\n",
       "      <th>전체토지면적</th>\n",
       "      <th>공원_토지면적</th>\n",
       "      <th>도로_토지면적</th>\n",
       "      <th>주차장_토지면적</th>\n",
       "      <th>체육용지_토지면적</th>\n",
       "      <th>학교용지_토지면적</th>\n",
       "      <th>근린상업지역</th>\n",
       "      <th>보전녹지지역</th>\n",
       "      <th>생산녹지지역</th>\n",
       "      <th>...</th>\n",
       "      <th>중심상업지역</th>\n",
       "      <th>고지</th>\n",
       "      <th>급경사</th>\n",
       "      <th>완경사</th>\n",
       "      <th>저지</th>\n",
       "      <th>지정되지않음</th>\n",
       "      <th>평지</th>\n",
       "      <th>상업용_공시지가</th>\n",
       "      <th>주거용_공시지가</th>\n",
       "      <th>주상복합용_공시지가</th>\n",
       "    </tr>\n",
       "  </thead>\n",
       "  <tbody>\n",
       "    <tr>\n",
       "      <td>0</td>\n",
       "      <td>서울특별시 강남구</td>\n",
       "      <td>32526668.9</td>\n",
       "      <td>1725299.7</td>\n",
       "      <td>5913425.2</td>\n",
       "      <td>64679.6</td>\n",
       "      <td>6908.1</td>\n",
       "      <td>1514434.1</td>\n",
       "      <td>0.0</td>\n",
       "      <td>0.0</td>\n",
       "      <td>236212.0</td>\n",
       "      <td>...</td>\n",
       "      <td>0.0</td>\n",
       "      <td>40753.0</td>\n",
       "      <td>33186.4</td>\n",
       "      <td>1531806.3</td>\n",
       "      <td>1366.0</td>\n",
       "      <td>10506713.1</td>\n",
       "      <td>20412844.1</td>\n",
       "      <td>184887611000</td>\n",
       "      <td>71690147000</td>\n",
       "      <td>21043941000</td>\n",
       "    </tr>\n",
       "    <tr>\n",
       "      <td>1</td>\n",
       "      <td>서울특별시 강동구</td>\n",
       "      <td>18867441.8</td>\n",
       "      <td>1214694.1</td>\n",
       "      <td>3110669.3</td>\n",
       "      <td>112586.2</td>\n",
       "      <td>0.0</td>\n",
       "      <td>813442.0</td>\n",
       "      <td>89381.8</td>\n",
       "      <td>0.0</td>\n",
       "      <td>0.0</td>\n",
       "      <td>...</td>\n",
       "      <td>0.0</td>\n",
       "      <td>0.0</td>\n",
       "      <td>366.0</td>\n",
       "      <td>1590083.1</td>\n",
       "      <td>671037.0</td>\n",
       "      <td>4732595.2</td>\n",
       "      <td>11873360.5</td>\n",
       "      <td>21786622000</td>\n",
       "      <td>48269211000</td>\n",
       "      <td>24771086000</td>\n",
       "    </tr>\n",
       "  </tbody>\n",
       "</table>\n",
       "<p>2 rows × 30 columns</p>\n",
       "</div>"
      ],
      "text/plain": [
       "        법정동구      전체토지면적    공원_토지면적    도로_토지면적  주차장_토지면적  체육용지_토지면적  \\\n",
       "0  서울특별시 강남구  32526668.9  1725299.7  5913425.2   64679.6     6908.1   \n",
       "1  서울특별시 강동구  18867441.8  1214694.1  3110669.3  112586.2        0.0   \n",
       "\n",
       "   학교용지_토지면적   근린상업지역  보전녹지지역    생산녹지지역  ...  중심상업지역       고지      급경사  \\\n",
       "0  1514434.1      0.0     0.0  236212.0  ...     0.0  40753.0  33186.4   \n",
       "1   813442.0  89381.8     0.0       0.0  ...     0.0      0.0    366.0   \n",
       "\n",
       "         완경사        저지      지정되지않음          평지      상업용_공시지가     주거용_공시지가  \\\n",
       "0  1531806.3    1366.0  10506713.1  20412844.1  184887611000  71690147000   \n",
       "1  1590083.1  671037.0   4732595.2  11873360.5   21786622000  48269211000   \n",
       "\n",
       "    주상복합용_공시지가  \n",
       "0  21043941000  \n",
       "1  24771086000  \n",
       "\n",
       "[2 rows x 30 columns]"
      ]
     },
     "execution_count": 133,
     "metadata": {},
     "output_type": "execute_result"
    }
   ],
   "source": [
    "topo.head(n=2)"
   ]
  },
  {
   "cell_type": "code",
   "execution_count": 130,
   "metadata": {},
   "outputs": [],
   "source": [
    "topo.to_csv('/Users/yeonjin/Documents/GitHub/Market-Entry-Analysis/topography_data_preprocessing/tf_seoul/topology_seoul_final.csv')"
   ]
  },
  {
   "cell_type": "code",
   "execution_count": null,
   "metadata": {},
   "outputs": [],
   "source": []
  }
 ],
 "metadata": {
  "kernelspec": {
   "display_name": "Python 3",
   "language": "python",
   "name": "python3"
  },
  "language_info": {
   "codemirror_mode": {
    "name": "ipython",
    "version": 3
   },
   "file_extension": ".py",
   "mimetype": "text/x-python",
   "name": "python",
   "nbconvert_exporter": "python",
   "pygments_lexer": "ipython3",
   "version": "3.7.4"
  }
 },
 "nbformat": 4,
 "nbformat_minor": 2
}
