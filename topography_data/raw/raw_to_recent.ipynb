{
 "cells": [
  {
   "cell_type": "markdown",
   "metadata": {},
   "source": [
    "## 서울특별시 지형 데이터 \n",
    "출처 : 국가공간정보포털 - 토지특성정보  \n",
    "http://openapi.nsdi.go.kr/nsdi/eios/ServiceDetail.do?svcSe=F&svcId=F024"
   ]
  },
  {
   "cell_type": "markdown",
   "metadata": {},
   "source": [
    "#### 작업중인 단계\n",
    "1. 지형데이터의 table schema와 기준 이해하기 : 완료 => Notion\n",
    "2. 사용할 최신 데이터만 선별하기\n",
    "3. 집계구별로 묶기 - 우리 데이터랑 매칭 시키기\n",
    "    - 우리 데이터에서 가진 집계구 코드와 일치하는 곳들을 merge해서 사용함\n",
    "4. 가용 정보 선정\n",
    "    - 용도 지역명1\n",
    "    - 용도 지역명2\n",
    "    - 지형 높이\n",
    "    - 도로 접면\n",
    "    - 공시 지가 평균값 / 확률 / \n",
    "    - 토지 이용 상황"
   ]
  },
  {
   "cell_type": "code",
   "execution_count": 1,
   "metadata": {},
   "outputs": [],
   "source": [
    "import pandas as pd\n",
    "import numpy as np\n",
    "import pandas_gbq as pd_gbq\n",
    "import datetime"
   ]
  },
  {
   "cell_type": "code",
   "execution_count": 2,
   "metadata": {},
   "outputs": [
    {
     "name": "stderr",
     "output_type": "stream",
     "text": [
      "/Users/yeonjin/opt/anaconda3/lib/python3.7/site-packages/IPython/core/interactiveshell.py:3058: DtypeWarning: Columns (0) have mixed types. Specify dtype option on import or set low_memory=False.\n",
      "  interactivity=interactivity, compiler=compiler, result=result)\n"
     ]
    }
   ],
   "source": [
    "df = pd.read_csv('seoul_topology.csv', encoding = 'cp949')"
   ]
  },
  {
   "cell_type": "code",
   "execution_count": 3,
   "metadata": {
    "scrolled": false
   },
   "outputs": [
    {
     "data": {
      "text/html": [
       "<div>\n",
       "<style scoped>\n",
       "    .dataframe tbody tr th:only-of-type {\n",
       "        vertical-align: middle;\n",
       "    }\n",
       "\n",
       "    .dataframe tbody tr th {\n",
       "        vertical-align: top;\n",
       "    }\n",
       "\n",
       "    .dataframe thead th {\n",
       "        text-align: right;\n",
       "    }\n",
       "</style>\n",
       "<table border=\"1\" class=\"dataframe\">\n",
       "  <thead>\n",
       "    <tr style=\"text-align: right;\">\n",
       "      <th></th>\n",
       "      <th>고유번호</th>\n",
       "      <th>법정동코드</th>\n",
       "      <th>법정동명</th>\n",
       "      <th>대장구분코드</th>\n",
       "      <th>대장구분명</th>\n",
       "      <th>지번</th>\n",
       "      <th>토지일련번호</th>\n",
       "      <th>기준년도</th>\n",
       "      <th>기준월</th>\n",
       "      <th>지목코드</th>\n",
       "      <th>...</th>\n",
       "      <th>토지이용상황코드</th>\n",
       "      <th>토지이동상황</th>\n",
       "      <th>지형높이코드</th>\n",
       "      <th>지형높이</th>\n",
       "      <th>지형형상코드</th>\n",
       "      <th>지형형상</th>\n",
       "      <th>도로접면코드</th>\n",
       "      <th>도로접면</th>\n",
       "      <th>공시지가</th>\n",
       "      <th>데이터기준일자</th>\n",
       "    </tr>\n",
       "  </thead>\n",
       "  <tbody>\n",
       "    <tr>\n",
       "      <td>6558513</td>\n",
       "      <td>1174011000307390000</td>\n",
       "      <td>1174011000</td>\n",
       "      <td>서울특별시 강동구 강일동</td>\n",
       "      <td>3.0</td>\n",
       "      <td>가지번</td>\n",
       "      <td>739</td>\n",
       "      <td>29238</td>\n",
       "      <td>2014</td>\n",
       "      <td>1</td>\n",
       "      <td>22</td>\n",
       "      <td>...</td>\n",
       "      <td>930</td>\n",
       "      <td>공원등</td>\n",
       "      <td>0</td>\n",
       "      <td>지정되지않음</td>\n",
       "      <td>0</td>\n",
       "      <td>지정되지않음</td>\n",
       "      <td>0</td>\n",
       "      <td>지정되지않음</td>\n",
       "      <td>1257000</td>\n",
       "      <td>2017-10-17</td>\n",
       "    </tr>\n",
       "    <tr>\n",
       "      <td>6558514</td>\n",
       "      <td>1174011000307390000</td>\n",
       "      <td>1174011000</td>\n",
       "      <td>서울특별시 강동구 강일동</td>\n",
       "      <td>3.0</td>\n",
       "      <td>가지번</td>\n",
       "      <td>739</td>\n",
       "      <td>29231</td>\n",
       "      <td>2015</td>\n",
       "      <td>1</td>\n",
       "      <td>22</td>\n",
       "      <td>...</td>\n",
       "      <td>930</td>\n",
       "      <td>공원등</td>\n",
       "      <td>0</td>\n",
       "      <td>지정되지않음</td>\n",
       "      <td>0</td>\n",
       "      <td>지정되지않음</td>\n",
       "      <td>0</td>\n",
       "      <td>지정되지않음</td>\n",
       "      <td>874500</td>\n",
       "      <td>2017-10-17</td>\n",
       "    </tr>\n",
       "    <tr>\n",
       "      <td>6558515</td>\n",
       "      <td>1174011000307400000</td>\n",
       "      <td>1174011000</td>\n",
       "      <td>서울특별시 강동구 강일동</td>\n",
       "      <td>3.0</td>\n",
       "      <td>가지번</td>\n",
       "      <td>740</td>\n",
       "      <td>29232</td>\n",
       "      <td>2013</td>\n",
       "      <td>1</td>\n",
       "      <td>8</td>\n",
       "      <td>...</td>\n",
       "      <td>140</td>\n",
       "      <td>아파트</td>\n",
       "      <td>2</td>\n",
       "      <td>평지</td>\n",
       "      <td>7</td>\n",
       "      <td>부정형</td>\n",
       "      <td>2</td>\n",
       "      <td>광대소각</td>\n",
       "      <td>4000000</td>\n",
       "      <td>2017-10-17</td>\n",
       "    </tr>\n",
       "    <tr>\n",
       "      <td>6558516</td>\n",
       "      <td>1174011000307400000</td>\n",
       "      <td>1174011000</td>\n",
       "      <td>서울특별시 강동구 강일동</td>\n",
       "      <td>3.0</td>\n",
       "      <td>가지번</td>\n",
       "      <td>740</td>\n",
       "      <td>29239</td>\n",
       "      <td>2014</td>\n",
       "      <td>1</td>\n",
       "      <td>8</td>\n",
       "      <td>...</td>\n",
       "      <td>140</td>\n",
       "      <td>아파트</td>\n",
       "      <td>2</td>\n",
       "      <td>평지</td>\n",
       "      <td>7</td>\n",
       "      <td>부정형</td>\n",
       "      <td>4</td>\n",
       "      <td>중로한면</td>\n",
       "      <td>4175000</td>\n",
       "      <td>2017-10-17</td>\n",
       "    </tr>\n",
       "    <tr>\n",
       "      <td>6558517</td>\n",
       "      <td>1174011000307400000</td>\n",
       "      <td>1174011000</td>\n",
       "      <td>서울특별시 강동구 강일동</td>\n",
       "      <td>3.0</td>\n",
       "      <td>가지번</td>\n",
       "      <td>740</td>\n",
       "      <td>29232</td>\n",
       "      <td>2015</td>\n",
       "      <td>1</td>\n",
       "      <td>8</td>\n",
       "      <td>...</td>\n",
       "      <td>140</td>\n",
       "      <td>아파트</td>\n",
       "      <td>2</td>\n",
       "      <td>평지</td>\n",
       "      <td>7</td>\n",
       "      <td>부정형</td>\n",
       "      <td>6</td>\n",
       "      <td>소로한면</td>\n",
       "      <td>3970000</td>\n",
       "      <td>2017-10-17</td>\n",
       "    </tr>\n",
       "  </tbody>\n",
       "</table>\n",
       "<p>5 rows × 26 columns</p>\n",
       "</div>"
      ],
      "text/plain": [
       "                        고유번호       법정동코드           법정동명  대장구분코드 대장구분명   지번  \\\n",
       "6558513  1174011000307390000  1174011000  서울특별시 강동구 강일동     3.0   가지번  739   \n",
       "6558514  1174011000307390000  1174011000  서울특별시 강동구 강일동     3.0   가지번  739   \n",
       "6558515  1174011000307400000  1174011000  서울특별시 강동구 강일동     3.0   가지번  740   \n",
       "6558516  1174011000307400000  1174011000  서울특별시 강동구 강일동     3.0   가지번  740   \n",
       "6558517  1174011000307400000  1174011000  서울특별시 강동구 강일동     3.0   가지번  740   \n",
       "\n",
       "         토지일련번호  기준년도  기준월  지목코드  ... 토지이용상황코드  토지이동상황  지형높이코드    지형높이  \\\n",
       "6558513   29238  2014    1    22  ...      930     공원등       0  지정되지않음   \n",
       "6558514   29231  2015    1    22  ...      930     공원등       0  지정되지않음   \n",
       "6558515   29232  2013    1     8  ...      140     아파트       2      평지   \n",
       "6558516   29239  2014    1     8  ...      140     아파트       2      평지   \n",
       "6558517   29232  2015    1     8  ...      140     아파트       2      평지   \n",
       "\n",
       "         지형형상코드    지형형상  도로접면코드    도로접면     공시지가     데이터기준일자  \n",
       "6558513       0  지정되지않음       0  지정되지않음  1257000  2017-10-17  \n",
       "6558514       0  지정되지않음       0  지정되지않음   874500  2017-10-17  \n",
       "6558515       7     부정형       2    광대소각  4000000  2017-10-17  \n",
       "6558516       7     부정형       4    중로한면  4175000  2017-10-17  \n",
       "6558517       7     부정형       6    소로한면  3970000  2017-10-17  \n",
       "\n",
       "[5 rows x 26 columns]"
      ]
     },
     "execution_count": 3,
     "metadata": {},
     "output_type": "execute_result"
    }
   ],
   "source": [
    "df.tail()"
   ]
  },
  {
   "cell_type": "code",
   "execution_count": 5,
   "metadata": {},
   "outputs": [
    {
     "data": {
      "text/plain": [
       "Index(['고유번호', '법정동코드', '법정동명', '대장구분코드', '대장구분명', '지번', '토지일련번호', '기준년도',\n",
       "       '기준월', '지목코드', '지목명', '토지면적', '용도지역코드1', '용도지역명1', '용도지역코드2', '용도지역명2',\n",
       "       '토지이용상황코드', '토지이동상황', '지형높이코드', '지형높이', '지형형상코드', '지형형상', '도로접면코드',\n",
       "       '도로접면', '공시지가', '데이터기준일자'],\n",
       "      dtype='object')"
      ]
     },
     "execution_count": 5,
     "metadata": {},
     "output_type": "execute_result"
    }
   ],
   "source": [
    "df.columns"
   ]
  },
  {
   "cell_type": "code",
   "execution_count": 22,
   "metadata": {},
   "outputs": [
    {
     "data": {
      "text/plain": [
       "6558518"
      ]
     },
     "execution_count": 22,
     "metadata": {},
     "output_type": "execute_result"
    }
   ],
   "source": [
    "len(df)"
   ]
  },
  {
   "cell_type": "code",
   "execution_count": 47,
   "metadata": {
    "scrolled": true
   },
   "outputs": [
    {
     "data": {
      "text/plain": [
       "고유번호         object\n",
       "법정동코드         int64\n",
       "법정동명         object\n",
       "대장구분코드      float64\n",
       "대장구분명        object\n",
       "지번           object\n",
       "토지일련번호        int64\n",
       "기준년도          int64\n",
       "기준월           int64\n",
       "지목코드          int64\n",
       "지목명          object\n",
       "토지면적        float64\n",
       "용도지역코드1       int64\n",
       "용도지역명1       object\n",
       "용도지역코드2       int64\n",
       "용도지역명2       object\n",
       "토지이용상황코드      int64\n",
       "토지이동상황       object\n",
       "지형높이코드        int64\n",
       "지형높이         object\n",
       "지형형상코드        int64\n",
       "지형형상         object\n",
       "도로접면코드        int64\n",
       "도로접면         object\n",
       "공시지가          int64\n",
       "데이터기준일자      object\n",
       "dtype: object"
      ]
     },
     "execution_count": 47,
     "metadata": {},
     "output_type": "execute_result"
    }
   ],
   "source": [
    "df.dtypes"
   ]
  },
  {
   "cell_type": "markdown",
   "metadata": {},
   "source": [
    "## '고유번호'를 기준으로 각 필지에서 산출된 최신 데이터만 선별해야함\n",
    "* 고유번호 = 필지를 기반으로 부여됨\n",
    "* 필지 : 국토 등록 기초 단위\n",
    "    * 필지(筆地) : 필(筆)은 구획된 논이나 밭, 임야, 대지 따위를 세는 단위이다. 땅에 대한 소유권이나 건물이 앉은 터를 기준으로 해서, 토지 구역 경계로 갈라 정한 국토를 등록하는 기본단위이다. 필지는 도시에서 용도지역, 용도지구를 구분하는 도시계획에서 기초 단위이다. 개별 필지는 지번과 지목을 가지고 있고, 도시지역에 있는 필지는 토지이용계획이 부여된다."
   ]
  },
  {
   "cell_type": "code",
   "execution_count": 82,
   "metadata": {
    "scrolled": true
   },
   "outputs": [
    {
     "data": {
      "text/html": [
       "<div>\n",
       "<style scoped>\n",
       "    .dataframe tbody tr th:only-of-type {\n",
       "        vertical-align: middle;\n",
       "    }\n",
       "\n",
       "    .dataframe tbody tr th {\n",
       "        vertical-align: top;\n",
       "    }\n",
       "\n",
       "    .dataframe thead th {\n",
       "        text-align: right;\n",
       "    }\n",
       "</style>\n",
       "<table border=\"1\" class=\"dataframe\">\n",
       "  <thead>\n",
       "    <tr style=\"text-align: right;\">\n",
       "      <th></th>\n",
       "      <th>고유번호</th>\n",
       "      <th>법정동코드</th>\n",
       "      <th>법정동명</th>\n",
       "      <th>대장구분코드</th>\n",
       "      <th>대장구분명</th>\n",
       "      <th>지번</th>\n",
       "      <th>토지일련번호</th>\n",
       "      <th>기준년도</th>\n",
       "      <th>기준월</th>\n",
       "      <th>지목코드</th>\n",
       "      <th>...</th>\n",
       "      <th>토지이용상황코드</th>\n",
       "      <th>토지이동상황</th>\n",
       "      <th>지형높이코드</th>\n",
       "      <th>지형높이</th>\n",
       "      <th>지형형상코드</th>\n",
       "      <th>지형형상</th>\n",
       "      <th>도로접면코드</th>\n",
       "      <th>도로접면</th>\n",
       "      <th>공시지가</th>\n",
       "      <th>데이터기준일자</th>\n",
       "    </tr>\n",
       "  </thead>\n",
       "  <tbody>\n",
       "    <tr>\n",
       "      <td>0</td>\n",
       "      <td>1111010100100010000</td>\n",
       "      <td>1111010100</td>\n",
       "      <td>서울특별시 종로구 청운동</td>\n",
       "      <td>1.0</td>\n",
       "      <td>일반</td>\n",
       "      <td>1</td>\n",
       "      <td>1</td>\n",
       "      <td>2013</td>\n",
       "      <td>1</td>\n",
       "      <td>8</td>\n",
       "      <td>...</td>\n",
       "      <td>120</td>\n",
       "      <td>연립</td>\n",
       "      <td>2</td>\n",
       "      <td>평지</td>\n",
       "      <td>4</td>\n",
       "      <td>사다리형</td>\n",
       "      <td>6</td>\n",
       "      <td>소로한면</td>\n",
       "      <td>2840000</td>\n",
       "      <td>2017-10-17</td>\n",
       "    </tr>\n",
       "    <tr>\n",
       "      <td>1</td>\n",
       "      <td>1111010100100010000</td>\n",
       "      <td>1111010100</td>\n",
       "      <td>서울특별시 종로구 청운동</td>\n",
       "      <td>1.0</td>\n",
       "      <td>일반</td>\n",
       "      <td>1</td>\n",
       "      <td>1</td>\n",
       "      <td>2014</td>\n",
       "      <td>1</td>\n",
       "      <td>8</td>\n",
       "      <td>...</td>\n",
       "      <td>140</td>\n",
       "      <td>아파트</td>\n",
       "      <td>2</td>\n",
       "      <td>평지</td>\n",
       "      <td>4</td>\n",
       "      <td>사다리형</td>\n",
       "      <td>6</td>\n",
       "      <td>소로한면</td>\n",
       "      <td>2933000</td>\n",
       "      <td>2017-10-17</td>\n",
       "    </tr>\n",
       "    <tr>\n",
       "      <td>2</td>\n",
       "      <td>1111010100100010000</td>\n",
       "      <td>1111010100</td>\n",
       "      <td>서울특별시 종로구 청운동</td>\n",
       "      <td>1.0</td>\n",
       "      <td>일반</td>\n",
       "      <td>1</td>\n",
       "      <td>1</td>\n",
       "      <td>2015</td>\n",
       "      <td>1</td>\n",
       "      <td>8</td>\n",
       "      <td>...</td>\n",
       "      <td>140</td>\n",
       "      <td>아파트</td>\n",
       "      <td>2</td>\n",
       "      <td>평지</td>\n",
       "      <td>4</td>\n",
       "      <td>사다리형</td>\n",
       "      <td>6</td>\n",
       "      <td>소로한면</td>\n",
       "      <td>3053000</td>\n",
       "      <td>2017-10-17</td>\n",
       "    </tr>\n",
       "    <tr>\n",
       "      <td>3</td>\n",
       "      <td>1111010100100010000</td>\n",
       "      <td>1111010100</td>\n",
       "      <td>서울특별시 종로구 청운동</td>\n",
       "      <td>1.0</td>\n",
       "      <td>일반</td>\n",
       "      <td>1</td>\n",
       "      <td>1</td>\n",
       "      <td>2016</td>\n",
       "      <td>1</td>\n",
       "      <td>8</td>\n",
       "      <td>...</td>\n",
       "      <td>140</td>\n",
       "      <td>아파트</td>\n",
       "      <td>2</td>\n",
       "      <td>평지</td>\n",
       "      <td>4</td>\n",
       "      <td>사다리형</td>\n",
       "      <td>6</td>\n",
       "      <td>소로한면</td>\n",
       "      <td>3234000</td>\n",
       "      <td>2017-10-17</td>\n",
       "    </tr>\n",
       "    <tr>\n",
       "      <td>4</td>\n",
       "      <td>1111010100100010000</td>\n",
       "      <td>1111010100</td>\n",
       "      <td>서울특별시 종로구 청운동</td>\n",
       "      <td>1.0</td>\n",
       "      <td>일반</td>\n",
       "      <td>1</td>\n",
       "      <td>1</td>\n",
       "      <td>2017</td>\n",
       "      <td>1</td>\n",
       "      <td>8</td>\n",
       "      <td>...</td>\n",
       "      <td>140</td>\n",
       "      <td>아파트</td>\n",
       "      <td>2</td>\n",
       "      <td>평지</td>\n",
       "      <td>4</td>\n",
       "      <td>사다리형</td>\n",
       "      <td>6</td>\n",
       "      <td>소로한면</td>\n",
       "      <td>3488000</td>\n",
       "      <td>2018-05-23</td>\n",
       "    </tr>\n",
       "    <tr>\n",
       "      <td>5</td>\n",
       "      <td>1111010100100010000</td>\n",
       "      <td>1111010100</td>\n",
       "      <td>서울특별시 종로구 청운동</td>\n",
       "      <td>1.0</td>\n",
       "      <td>일반</td>\n",
       "      <td>1</td>\n",
       "      <td>1</td>\n",
       "      <td>2018</td>\n",
       "      <td>1</td>\n",
       "      <td>8</td>\n",
       "      <td>...</td>\n",
       "      <td>140</td>\n",
       "      <td>아파트</td>\n",
       "      <td>2</td>\n",
       "      <td>평지</td>\n",
       "      <td>4</td>\n",
       "      <td>사다리형</td>\n",
       "      <td>6</td>\n",
       "      <td>소로한면</td>\n",
       "      <td>3765000</td>\n",
       "      <td>2018-07-31</td>\n",
       "    </tr>\n",
       "    <tr>\n",
       "      <td>6</td>\n",
       "      <td>1111010100100010000</td>\n",
       "      <td>1111010100</td>\n",
       "      <td>서울특별시 종로구 청운동</td>\n",
       "      <td>1.0</td>\n",
       "      <td>일반</td>\n",
       "      <td>1</td>\n",
       "      <td>1</td>\n",
       "      <td>2019</td>\n",
       "      <td>1</td>\n",
       "      <td>8</td>\n",
       "      <td>...</td>\n",
       "      <td>140</td>\n",
       "      <td>아파트</td>\n",
       "      <td>2</td>\n",
       "      <td>평지</td>\n",
       "      <td>4</td>\n",
       "      <td>사다리형</td>\n",
       "      <td>6</td>\n",
       "      <td>소로한면</td>\n",
       "      <td>3961000</td>\n",
       "      <td>2019-08-08</td>\n",
       "    </tr>\n",
       "  </tbody>\n",
       "</table>\n",
       "<p>7 rows × 26 columns</p>\n",
       "</div>"
      ],
      "text/plain": [
       "                  고유번호       법정동코드           법정동명  대장구분코드 대장구분명 지번  토지일련번호  \\\n",
       "0  1111010100100010000  1111010100  서울특별시 종로구 청운동     1.0    일반  1       1   \n",
       "1  1111010100100010000  1111010100  서울특별시 종로구 청운동     1.0    일반  1       1   \n",
       "2  1111010100100010000  1111010100  서울특별시 종로구 청운동     1.0    일반  1       1   \n",
       "3  1111010100100010000  1111010100  서울특별시 종로구 청운동     1.0    일반  1       1   \n",
       "4  1111010100100010000  1111010100  서울특별시 종로구 청운동     1.0    일반  1       1   \n",
       "5  1111010100100010000  1111010100  서울특별시 종로구 청운동     1.0    일반  1       1   \n",
       "6  1111010100100010000  1111010100  서울특별시 종로구 청운동     1.0    일반  1       1   \n",
       "\n",
       "   기준년도  기준월  지목코드  ... 토지이용상황코드  토지이동상황  지형높이코드 지형높이  지형형상코드  지형형상  도로접면코드  \\\n",
       "0  2013    1     8  ...      120      연립       2   평지       4  사다리형       6   \n",
       "1  2014    1     8  ...      140     아파트       2   평지       4  사다리형       6   \n",
       "2  2015    1     8  ...      140     아파트       2   평지       4  사다리형       6   \n",
       "3  2016    1     8  ...      140     아파트       2   평지       4  사다리형       6   \n",
       "4  2017    1     8  ...      140     아파트       2   평지       4  사다리형       6   \n",
       "5  2018    1     8  ...      140     아파트       2   평지       4  사다리형       6   \n",
       "6  2019    1     8  ...      140     아파트       2   평지       4  사다리형       6   \n",
       "\n",
       "   도로접면     공시지가     데이터기준일자  \n",
       "0  소로한면  2840000  2017-10-17  \n",
       "1  소로한면  2933000  2017-10-17  \n",
       "2  소로한면  3053000  2017-10-17  \n",
       "3  소로한면  3234000  2017-10-17  \n",
       "4  소로한면  3488000  2018-05-23  \n",
       "5  소로한면  3765000  2018-07-31  \n",
       "6  소로한면  3961000  2019-08-08  \n",
       "\n",
       "[7 rows x 26 columns]"
      ]
     },
     "execution_count": 82,
     "metadata": {},
     "output_type": "execute_result"
    }
   ],
   "source": [
    "df[df['고유번호'] == 1111010100100010000]\n",
    "# 하나의 고유번호에 [기준년도, 기준월, 데이터기준일자]에 따라 다른 데이터가 존재함"
   ]
  },
  {
   "cell_type": "markdown",
   "metadata": {},
   "source": [
    "## 어떤 기준으로 최대값을 찾을까?\n",
    "1. 기준년도\n",
    "2. 데이터기준일자\n",
    "3. datetime.date(기준년도, 기준월 ,1)로 기준일자 제작 후 사용\n",
    "4. 3의 기준일자와 데이터기준일자 중첩"
   ]
  },
  {
   "cell_type": "code",
   "execution_count": 34,
   "metadata": {},
   "outputs": [
    {
     "data": {
      "text/plain": [
       "985465"
      ]
     },
     "execution_count": 34,
     "metadata": {},
     "output_type": "execute_result"
    }
   ],
   "source": [
    "# duplicate를 없앤 고유번호의 수\n",
    "len(df['고유번호'].drop_duplicates())"
   ]
  },
  {
   "cell_type": "code",
   "execution_count": 84,
   "metadata": {
    "scrolled": true
   },
   "outputs": [
    {
     "data": {
      "text/plain": [
       "기준년도\n",
       "2013    954102\n",
       "2014    946648\n",
       "2015    940631\n",
       "2016    939576\n",
       "2017    930804\n",
       "2018    926366\n",
       "2019    920391\n",
       "Name: 고유번호, dtype: int64"
      ]
     },
     "execution_count": 84,
     "metadata": {},
     "output_type": "execute_result"
    }
   ],
   "source": [
    "# 1 \n",
    "df.groupby('기준년도')['고유번호'].count()"
   ]
  },
  {
   "cell_type": "code",
   "execution_count": 103,
   "metadata": {
    "scrolled": true
   },
   "outputs": [
    {
     "data": {
      "text/plain": [
       "987584"
      ]
     },
     "execution_count": 103,
     "metadata": {},
     "output_type": "execute_result"
    }
   ],
   "source": [
    "len(df[df.groupby(['고유번호'])['기준년도'].transform(max) == df['기준년도']])"
   ]
  },
  {
   "cell_type": "code",
   "execution_count": 85,
   "metadata": {},
   "outputs": [],
   "source": [
    "# 2 데이터 기준일자 활용\n",
    "df['데이터기준일자'] = pd.to_datetime(df['데이터기준일자'])"
   ]
  },
  {
   "cell_type": "code",
   "execution_count": 97,
   "metadata": {
    "scrolled": true
   },
   "outputs": [
    {
     "data": {
      "text/plain": [
       "985465"
      ]
     },
     "execution_count": 97,
     "metadata": {},
     "output_type": "execute_result"
    }
   ],
   "source": [
    "# case 1\n",
    "len(pd.DataFrame(df.groupby('고유번호')['데이터기준일자'].max()))"
   ]
  },
  {
   "cell_type": "code",
   "execution_count": 105,
   "metadata": {},
   "outputs": [
    {
     "data": {
      "text/plain": [
       "1059179"
      ]
     },
     "execution_count": 105,
     "metadata": {},
     "output_type": "execute_result"
    }
   ],
   "source": [
    "# case 2\n",
    "len(df[df.groupby(['고유번호'])['데이터기준일자'].transform(max) == df['데이터기준일자']])"
   ]
  },
  {
   "cell_type": "code",
   "execution_count": 114,
   "metadata": {
    "scrolled": true
   },
   "outputs": [
    {
     "data": {
      "text/plain": [
       "0         2019-08-08\n",
       "1         2019-08-08\n",
       "2         2019-08-08\n",
       "3         2019-08-08\n",
       "4         2019-08-08\n",
       "             ...    \n",
       "6558513   2017-10-17\n",
       "6558514   2017-10-17\n",
       "6558515   2017-10-17\n",
       "6558516   2017-10-17\n",
       "6558517   2017-10-17\n",
       "Name: 데이터기준일자, Length: 6558518, dtype: datetime64[ns]"
      ]
     },
     "execution_count": 114,
     "metadata": {},
     "output_type": "execute_result"
    }
   ],
   "source": [
    "df.groupby(['고유번호'])['데이터기준일자'].transform(max)"
   ]
  },
  {
   "cell_type": "markdown",
   "metadata": {},
   "source": [
    "### 데이터 기준일자의 max값 기준으로 데이터를 선별할 때 차이가 발생하는 이유\n",
    "\n",
    "* case 1 : 고유번호를 기준으로 '데이터기준일자' 중 최대값에 해당하는 값을 보여줌.\n",
    "* case 2 : \n",
    "    1. 각 고유번호 내에서 <최대인 데이터기준일자 x>를 찾음 \n",
    "    2. 각 row의 고유번호에 매칭되는 x 값을 라벨링해줌 (df 길이만큼, 일종의 컬럼 형성)\n",
    "    3. 해당 값과 df['기준일자']가 동일한지 확인  \n",
    "\n",
    "고로, 하나의 고유번호일지라도 '데이터기준일자'가 최대인 데이터를 여러개 보유하고 있기 때문에 그런 경우의 수만큼 데이터의 길이가 길어짐  \n",
    "\n",
    "* 대안 : drop_duplicate( keep = last )를 할 수 있음. 그러나, id 중 일부는 string값과 함께 들어가있어서 sort를 하기 까다로운 상황\n",
    "* 결론 : 3번째 기준년월으로 '기준일자' 컬럼을 제작하고 해보기로 결정."
   ]
  },
  {
   "cell_type": "code",
   "execution_count": 112,
   "metadata": {},
   "outputs": [],
   "source": [
    "# 3. 기준일자 생성 후 비교\n",
    "##1. 기준년도, 기준일을 datetime 객체로 바꿔주기\n",
    "LYM = []\n",
    "# lable_for_year_month\n",
    "for i in range(len(df)):\n",
    "    LYM.append(datetime.date(df.iloc[i,7], df.iloc[i,8],1))"
   ]
  },
  {
   "cell_type": "code",
   "execution_count": 100,
   "metadata": {
    "scrolled": true
   },
   "outputs": [],
   "source": [
    "df['standard_date'] = LYM"
   ]
  },
  {
   "cell_type": "code",
   "execution_count": 111,
   "metadata": {},
   "outputs": [
    {
     "data": {
      "text/plain": [
       "985465"
      ]
     },
     "execution_count": 111,
     "metadata": {},
     "output_type": "execute_result"
    }
   ],
   "source": [
    "## 2. 데이터 기준일자를 기준으로 체크 -> OK! \n",
    "len(df[df.groupby(['고유번호'])['standard_date'].transform(max) == df['standard_date']])"
   ]
  },
  {
   "cell_type": "code",
   "execution_count": 115,
   "metadata": {
    "scrolled": true
   },
   "outputs": [],
   "source": [
    "ndf = df[df.groupby(['고유번호'])['standard_date'].transform(max) == df['standard_date']]"
   ]
  },
  {
   "cell_type": "code",
   "execution_count": 117,
   "metadata": {
    "scrolled": true
   },
   "outputs": [
    {
     "data": {
      "text/html": [
       "<div>\n",
       "<style scoped>\n",
       "    .dataframe tbody tr th:only-of-type {\n",
       "        vertical-align: middle;\n",
       "    }\n",
       "\n",
       "    .dataframe tbody tr th {\n",
       "        vertical-align: top;\n",
       "    }\n",
       "\n",
       "    .dataframe thead th {\n",
       "        text-align: right;\n",
       "    }\n",
       "</style>\n",
       "<table border=\"1\" class=\"dataframe\">\n",
       "  <thead>\n",
       "    <tr style=\"text-align: right;\">\n",
       "      <th></th>\n",
       "      <th>고유번호</th>\n",
       "      <th>법정동코드</th>\n",
       "      <th>법정동명</th>\n",
       "      <th>대장구분코드</th>\n",
       "      <th>대장구분명</th>\n",
       "      <th>지번</th>\n",
       "      <th>토지일련번호</th>\n",
       "      <th>기준년도</th>\n",
       "      <th>기준월</th>\n",
       "      <th>지목코드</th>\n",
       "      <th>...</th>\n",
       "      <th>토지이동상황</th>\n",
       "      <th>지형높이코드</th>\n",
       "      <th>지형높이</th>\n",
       "      <th>지형형상코드</th>\n",
       "      <th>지형형상</th>\n",
       "      <th>도로접면코드</th>\n",
       "      <th>도로접면</th>\n",
       "      <th>공시지가</th>\n",
       "      <th>데이터기준일자</th>\n",
       "      <th>standard_date</th>\n",
       "    </tr>\n",
       "  </thead>\n",
       "  <tbody>\n",
       "    <tr>\n",
       "      <td>6</td>\n",
       "      <td>1111010100100010000</td>\n",
       "      <td>1111010100</td>\n",
       "      <td>서울특별시 종로구 청운동</td>\n",
       "      <td>1.0</td>\n",
       "      <td>일반</td>\n",
       "      <td>1</td>\n",
       "      <td>1</td>\n",
       "      <td>2019</td>\n",
       "      <td>1</td>\n",
       "      <td>8</td>\n",
       "      <td>...</td>\n",
       "      <td>아파트</td>\n",
       "      <td>2</td>\n",
       "      <td>평지</td>\n",
       "      <td>4</td>\n",
       "      <td>사다리형</td>\n",
       "      <td>6</td>\n",
       "      <td>소로한면</td>\n",
       "      <td>3961000</td>\n",
       "      <td>2019-08-08</td>\n",
       "      <td>2019-01-01</td>\n",
       "    </tr>\n",
       "    <tr>\n",
       "      <td>13</td>\n",
       "      <td>1111010100100010001</td>\n",
       "      <td>1111010100</td>\n",
       "      <td>서울특별시 종로구 청운동</td>\n",
       "      <td>1.0</td>\n",
       "      <td>일반</td>\n",
       "      <td>1-1</td>\n",
       "      <td>2</td>\n",
       "      <td>2019</td>\n",
       "      <td>1</td>\n",
       "      <td>14</td>\n",
       "      <td>...</td>\n",
       "      <td>도로등</td>\n",
       "      <td>2</td>\n",
       "      <td>평지</td>\n",
       "      <td>7</td>\n",
       "      <td>부정형</td>\n",
       "      <td>0</td>\n",
       "      <td>지정되지않음</td>\n",
       "      <td>1296000</td>\n",
       "      <td>2019-08-08</td>\n",
       "      <td>2019-01-01</td>\n",
       "    </tr>\n",
       "    <tr>\n",
       "      <td>20</td>\n",
       "      <td>1111010100100010002</td>\n",
       "      <td>1111010100</td>\n",
       "      <td>서울특별시 종로구 청운동</td>\n",
       "      <td>1.0</td>\n",
       "      <td>일반</td>\n",
       "      <td>1-2</td>\n",
       "      <td>3</td>\n",
       "      <td>2019</td>\n",
       "      <td>1</td>\n",
       "      <td>8</td>\n",
       "      <td>...</td>\n",
       "      <td>주거나지</td>\n",
       "      <td>3</td>\n",
       "      <td>완경사</td>\n",
       "      <td>7</td>\n",
       "      <td>부정형</td>\n",
       "      <td>12</td>\n",
       "      <td>맹지</td>\n",
       "      <td>3267000</td>\n",
       "      <td>2019-08-08</td>\n",
       "      <td>2019-01-01</td>\n",
       "    </tr>\n",
       "    <tr>\n",
       "      <td>27</td>\n",
       "      <td>1111010100100010003</td>\n",
       "      <td>1111010100</td>\n",
       "      <td>서울특별시 종로구 청운동</td>\n",
       "      <td>1.0</td>\n",
       "      <td>일반</td>\n",
       "      <td>1-3</td>\n",
       "      <td>4</td>\n",
       "      <td>2019</td>\n",
       "      <td>1</td>\n",
       "      <td>8</td>\n",
       "      <td>...</td>\n",
       "      <td>연립</td>\n",
       "      <td>2</td>\n",
       "      <td>평지</td>\n",
       "      <td>7</td>\n",
       "      <td>부정형</td>\n",
       "      <td>6</td>\n",
       "      <td>소로한면</td>\n",
       "      <td>4255000</td>\n",
       "      <td>2019-08-08</td>\n",
       "      <td>2019-01-01</td>\n",
       "    </tr>\n",
       "    <tr>\n",
       "      <td>34</td>\n",
       "      <td>1111010100100010004</td>\n",
       "      <td>1111010100</td>\n",
       "      <td>서울특별시 종로구 청운동</td>\n",
       "      <td>1.0</td>\n",
       "      <td>일반</td>\n",
       "      <td>1-4</td>\n",
       "      <td>5</td>\n",
       "      <td>2019</td>\n",
       "      <td>1</td>\n",
       "      <td>14</td>\n",
       "      <td>...</td>\n",
       "      <td>도로등</td>\n",
       "      <td>2</td>\n",
       "      <td>평지</td>\n",
       "      <td>7</td>\n",
       "      <td>부정형</td>\n",
       "      <td>0</td>\n",
       "      <td>지정되지않음</td>\n",
       "      <td>1524000</td>\n",
       "      <td>2019-08-08</td>\n",
       "      <td>2019-01-01</td>\n",
       "    </tr>\n",
       "  </tbody>\n",
       "</table>\n",
       "<p>5 rows × 27 columns</p>\n",
       "</div>"
      ],
      "text/plain": [
       "                   고유번호       법정동코드           법정동명  대장구분코드 대장구분명   지번  토지일련번호  \\\n",
       "6   1111010100100010000  1111010100  서울특별시 종로구 청운동     1.0    일반    1       1   \n",
       "13  1111010100100010001  1111010100  서울특별시 종로구 청운동     1.0    일반  1-1       2   \n",
       "20  1111010100100010002  1111010100  서울특별시 종로구 청운동     1.0    일반  1-2       3   \n",
       "27  1111010100100010003  1111010100  서울특별시 종로구 청운동     1.0    일반  1-3       4   \n",
       "34  1111010100100010004  1111010100  서울특별시 종로구 청운동     1.0    일반  1-4       5   \n",
       "\n",
       "    기준년도  기준월  지목코드  ... 토지이동상황  지형높이코드  지형높이 지형형상코드  지형형상 도로접면코드    도로접면  \\\n",
       "6   2019    1     8  ...    아파트       2    평지      4  사다리형      6    소로한면   \n",
       "13  2019    1    14  ...    도로등       2    평지      7   부정형      0  지정되지않음   \n",
       "20  2019    1     8  ...   주거나지       3   완경사      7   부정형     12      맹지   \n",
       "27  2019    1     8  ...     연립       2    평지      7   부정형      6    소로한면   \n",
       "34  2019    1    14  ...    도로등       2    평지      7   부정형      0  지정되지않음   \n",
       "\n",
       "       공시지가    데이터기준일자 standard_date  \n",
       "6   3961000 2019-08-08    2019-01-01  \n",
       "13  1296000 2019-08-08    2019-01-01  \n",
       "20  3267000 2019-08-08    2019-01-01  \n",
       "27  4255000 2019-08-08    2019-01-01  \n",
       "34  1524000 2019-08-08    2019-01-01  \n",
       "\n",
       "[5 rows x 27 columns]"
      ]
     },
     "execution_count": 117,
     "metadata": {},
     "output_type": "execute_result"
    }
   ],
   "source": [
    "ndf.head()"
   ]
  },
  {
   "cell_type": "code",
   "execution_count": 118,
   "metadata": {},
   "outputs": [],
   "source": [
    "#ndf.to_csv('tfseoul_1.csv', index = False)"
   ]
  },
  {
   "cell_type": "code",
   "execution_count": null,
   "metadata": {},
   "outputs": [],
   "source": []
  },
  {
   "cell_type": "code",
   "execution_count": null,
   "metadata": {},
   "outputs": [],
   "source": []
  }
 ],
 "metadata": {
  "kernelspec": {
   "display_name": "Python 3",
   "language": "python",
   "name": "python3"
  },
  "language_info": {
   "codemirror_mode": {
    "name": "ipython",
    "version": 3
   },
   "file_extension": ".py",
   "mimetype": "text/x-python",
   "name": "python",
   "nbconvert_exporter": "python",
   "pygments_lexer": "ipython3",
   "version": "3.7.4"
  }
 },
 "nbformat": 4,
 "nbformat_minor": 2
}
